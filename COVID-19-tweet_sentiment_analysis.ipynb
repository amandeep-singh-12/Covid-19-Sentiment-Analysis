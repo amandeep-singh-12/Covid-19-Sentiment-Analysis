{
 "cells": [
  {
   "cell_type": "markdown",
   "metadata": {},
   "source": [
    "___\n",
    "# Importing necessary libraries\n",
    "___"
   ]
  },
  {
   "cell_type": "code",
   "execution_count": 45,
   "metadata": {},
   "outputs": [
    {
     "data": {
      "text/html": [
       "        <script type=\"text/javascript\">\n",
       "        window.PlotlyConfig = {MathJaxConfig: 'local'};\n",
       "        if (window.MathJax) {MathJax.Hub.Config({SVG: {font: \"STIX-Web\"}});}\n",
       "        if (typeof require !== 'undefined') {\n",
       "        require.undef(\"plotly\");\n",
       "        requirejs.config({\n",
       "            paths: {\n",
       "                'plotly': ['https://cdn.plot.ly/plotly-latest.min']\n",
       "            }\n",
       "        });\n",
       "        require(['plotly'], function(Plotly) {\n",
       "            window._Plotly = Plotly;\n",
       "        });\n",
       "        }\n",
       "        </script>\n",
       "        "
      ]
     },
     "metadata": {},
     "output_type": "display_data"
    },
    {
     "data": {
      "text/html": [
       "        <script type=\"text/javascript\">\n",
       "        window.PlotlyConfig = {MathJaxConfig: 'local'};\n",
       "        if (window.MathJax) {MathJax.Hub.Config({SVG: {font: \"STIX-Web\"}});}\n",
       "        if (typeof require !== 'undefined') {\n",
       "        require.undef(\"plotly\");\n",
       "        requirejs.config({\n",
       "            paths: {\n",
       "                'plotly': ['https://cdn.plot.ly/plotly-latest.min']\n",
       "            }\n",
       "        });\n",
       "        require(['plotly'], function(Plotly) {\n",
       "            window._Plotly = Plotly;\n",
       "        });\n",
       "        }\n",
       "        </script>\n",
       "        "
      ]
     },
     "metadata": {},
     "output_type": "display_data"
    }
   ],
   "source": [
    "import pandas as pd\n",
    "import numpy as np\n",
    "import matplotlib.pyplot as plt\n",
    "import seaborn as sns\n",
    "\n",
    "plt.style.use('fivethirtyeight')\n",
    "\n",
    "\n",
    "import plotly\n",
    "from plotly import __version__\n",
    "from plotly.offline import download_plotlyjs, init_notebook_mode, plot, iplot\n",
    "import plotly.offline as py\n",
    "py.init_notebook_mode(connected=True)\n",
    "import plotly.graph_objs as go\n",
    "import plotly.tools as tls\n",
    "import plotly.express as px\n",
    "\n",
    "\n",
    "import cufflinks as cf\n",
    "cf.go_offline()"
   ]
  },
  {
   "cell_type": "code",
   "execution_count": 46,
   "metadata": {},
   "outputs": [],
   "source": [
    "# Loading the dataset\n",
    "df = pd.read_csv('../dataset/COVID-19_Sentiments.csv')"
   ]
  },
  {
   "cell_type": "code",
   "execution_count": 47,
   "metadata": {},
   "outputs": [
    {
     "data": {
      "text/html": [
       "<div>\n",
       "<style scoped>\n",
       "    .dataframe tbody tr th:only-of-type {\n",
       "        vertical-align: middle;\n",
       "    }\n",
       "\n",
       "    .dataframe tbody tr th {\n",
       "        vertical-align: top;\n",
       "    }\n",
       "\n",
       "    .dataframe thead th {\n",
       "        text-align: right;\n",
       "    }\n",
       "</style>\n",
       "<table border=\"1\" class=\"dataframe\">\n",
       "  <thead>\n",
       "    <tr style=\"text-align: right;\">\n",
       "      <th></th>\n",
       "      <th>Text_Id</th>\n",
       "      <th>Text</th>\n",
       "      <th>Date</th>\n",
       "      <th>Location</th>\n",
       "      <th>Sentiments</th>\n",
       "    </tr>\n",
       "  </thead>\n",
       "  <tbody>\n",
       "    <tr>\n",
       "      <td>0</td>\n",
       "      <td>1241032866567356417</td>\n",
       "      <td>RT @theskindoctor13: Shaheen Bagh is still on....</td>\n",
       "      <td>Fri Mar 20 16:04:27 +0000 2020</td>\n",
       "      <td>Uttar Pradesh, India</td>\n",
       "      <td>0.000</td>\n",
       "    </tr>\n",
       "    <tr>\n",
       "      <td>1</td>\n",
       "      <td>1241032867699765249</td>\n",
       "      <td>RT @theskindoctor13: Shaheen Bagh is still on....</td>\n",
       "      <td>Fri Mar 20 16:04:27 +0000 2020</td>\n",
       "      <td>Mumbai</td>\n",
       "      <td>0.000</td>\n",
       "    </tr>\n",
       "    <tr>\n",
       "      <td>2</td>\n",
       "      <td>1241032875102703616</td>\n",
       "      <td>RT @SmokingSkills_: Daughter of an IAS, son of...</td>\n",
       "      <td>Fri Mar 20 16:04:29 +0000 2020</td>\n",
       "      <td>Jodhpur, India</td>\n",
       "      <td>0.350</td>\n",
       "    </tr>\n",
       "    <tr>\n",
       "      <td>3</td>\n",
       "      <td>1241032877099237379</td>\n",
       "      <td>RT @narendramodi: The young actors have someth...</td>\n",
       "      <td>Fri Mar 20 16:04:29 +0000 2020</td>\n",
       "      <td>Gurugram, Bharat</td>\n",
       "      <td>0.125</td>\n",
       "    </tr>\n",
       "    <tr>\n",
       "      <td>4</td>\n",
       "      <td>1241032870405128192</td>\n",
       "      <td>RT @theskindoctor13: Shaheen Bagh is still on....</td>\n",
       "      <td>Fri Mar 20 16:04:28 +0000 2020</td>\n",
       "      <td>New Delhi, India</td>\n",
       "      <td>0.000</td>\n",
       "    </tr>\n",
       "  </tbody>\n",
       "</table>\n",
       "</div>"
      ],
      "text/plain": [
       "               Text_Id                                               Text  \\\n",
       "0  1241032866567356417  RT @theskindoctor13: Shaheen Bagh is still on....   \n",
       "1  1241032867699765249  RT @theskindoctor13: Shaheen Bagh is still on....   \n",
       "2  1241032875102703616  RT @SmokingSkills_: Daughter of an IAS, son of...   \n",
       "3  1241032877099237379  RT @narendramodi: The young actors have someth...   \n",
       "4  1241032870405128192  RT @theskindoctor13: Shaheen Bagh is still on....   \n",
       "\n",
       "                             Date              Location  Sentiments  \n",
       "0  Fri Mar 20 16:04:27 +0000 2020  Uttar Pradesh, India       0.000  \n",
       "1  Fri Mar 20 16:04:27 +0000 2020                Mumbai       0.000  \n",
       "2  Fri Mar 20 16:04:29 +0000 2020        Jodhpur, India       0.350  \n",
       "3  Fri Mar 20 16:04:29 +0000 2020      Gurugram, Bharat       0.125  \n",
       "4  Fri Mar 20 16:04:28 +0000 2020      New Delhi, India       0.000  "
      ]
     },
     "execution_count": 47,
     "metadata": {},
     "output_type": "execute_result"
    }
   ],
   "source": [
    "df.head()"
   ]
  },
  {
   "cell_type": "code",
   "execution_count": 48,
   "metadata": {},
   "outputs": [],
   "source": [
    "# Retaining only date in Date feature\n",
    "df['Date'] = pd.to_datetime( df['Date'] ).dt.date"
   ]
  },
  {
   "cell_type": "code",
   "execution_count": 49,
   "metadata": {},
   "outputs": [
    {
     "data": {
      "text/html": [
       "<div>\n",
       "<style scoped>\n",
       "    .dataframe tbody tr th:only-of-type {\n",
       "        vertical-align: middle;\n",
       "    }\n",
       "\n",
       "    .dataframe tbody tr th {\n",
       "        vertical-align: top;\n",
       "    }\n",
       "\n",
       "    .dataframe thead th {\n",
       "        text-align: right;\n",
       "    }\n",
       "</style>\n",
       "<table border=\"1\" class=\"dataframe\">\n",
       "  <thead>\n",
       "    <tr style=\"text-align: right;\">\n",
       "      <th></th>\n",
       "      <th>Text_Id</th>\n",
       "      <th>Text</th>\n",
       "      <th>Date</th>\n",
       "      <th>Location</th>\n",
       "      <th>Sentiments</th>\n",
       "    </tr>\n",
       "  </thead>\n",
       "  <tbody>\n",
       "    <tr>\n",
       "      <td>0</td>\n",
       "      <td>1241032866567356417</td>\n",
       "      <td>RT @theskindoctor13: Shaheen Bagh is still on....</td>\n",
       "      <td>2020-03-20</td>\n",
       "      <td>Uttar Pradesh, India</td>\n",
       "      <td>0.000</td>\n",
       "    </tr>\n",
       "    <tr>\n",
       "      <td>1</td>\n",
       "      <td>1241032867699765249</td>\n",
       "      <td>RT @theskindoctor13: Shaheen Bagh is still on....</td>\n",
       "      <td>2020-03-20</td>\n",
       "      <td>Mumbai</td>\n",
       "      <td>0.000</td>\n",
       "    </tr>\n",
       "    <tr>\n",
       "      <td>2</td>\n",
       "      <td>1241032875102703616</td>\n",
       "      <td>RT @SmokingSkills_: Daughter of an IAS, son of...</td>\n",
       "      <td>2020-03-20</td>\n",
       "      <td>Jodhpur, India</td>\n",
       "      <td>0.350</td>\n",
       "    </tr>\n",
       "    <tr>\n",
       "      <td>3</td>\n",
       "      <td>1241032877099237379</td>\n",
       "      <td>RT @narendramodi: The young actors have someth...</td>\n",
       "      <td>2020-03-20</td>\n",
       "      <td>Gurugram, Bharat</td>\n",
       "      <td>0.125</td>\n",
       "    </tr>\n",
       "    <tr>\n",
       "      <td>4</td>\n",
       "      <td>1241032870405128192</td>\n",
       "      <td>RT @theskindoctor13: Shaheen Bagh is still on....</td>\n",
       "      <td>2020-03-20</td>\n",
       "      <td>New Delhi, India</td>\n",
       "      <td>0.000</td>\n",
       "    </tr>\n",
       "  </tbody>\n",
       "</table>\n",
       "</div>"
      ],
      "text/plain": [
       "               Text_Id                                               Text  \\\n",
       "0  1241032866567356417  RT @theskindoctor13: Shaheen Bagh is still on....   \n",
       "1  1241032867699765249  RT @theskindoctor13: Shaheen Bagh is still on....   \n",
       "2  1241032875102703616  RT @SmokingSkills_: Daughter of an IAS, son of...   \n",
       "3  1241032877099237379  RT @narendramodi: The young actors have someth...   \n",
       "4  1241032870405128192  RT @theskindoctor13: Shaheen Bagh is still on....   \n",
       "\n",
       "         Date              Location  Sentiments  \n",
       "0  2020-03-20  Uttar Pradesh, India       0.000  \n",
       "1  2020-03-20                Mumbai       0.000  \n",
       "2  2020-03-20        Jodhpur, India       0.350  \n",
       "3  2020-03-20      Gurugram, Bharat       0.125  \n",
       "4  2020-03-20      New Delhi, India       0.000  "
      ]
     },
     "execution_count": 49,
     "metadata": {},
     "output_type": "execute_result"
    }
   ],
   "source": [
    "df.head()"
   ]
  },
  {
   "cell_type": "code",
   "execution_count": 50,
   "metadata": {},
   "outputs": [
    {
     "name": "stdout",
     "output_type": "stream",
     "text": [
      "<class 'pandas.core.frame.DataFrame'>\n",
      "RangeIndex: 648958 entries, 0 to 648957\n",
      "Data columns (total 5 columns):\n",
      "Text_Id       648958 non-null int64\n",
      "Text          648958 non-null object\n",
      "Date          648958 non-null object\n",
      "Location      648958 non-null object\n",
      "Sentiments    637978 non-null float64\n",
      "dtypes: float64(1), int64(1), object(3)\n",
      "memory usage: 24.8+ MB\n"
     ]
    }
   ],
   "source": [
    "df.info()"
   ]
  },
  {
   "cell_type": "code",
   "execution_count": 51,
   "metadata": {},
   "outputs": [
    {
     "data": {
      "text/html": [
       "<div>\n",
       "<style scoped>\n",
       "    .dataframe tbody tr th:only-of-type {\n",
       "        vertical-align: middle;\n",
       "    }\n",
       "\n",
       "    .dataframe tbody tr th {\n",
       "        vertical-align: top;\n",
       "    }\n",
       "\n",
       "    .dataframe thead th {\n",
       "        text-align: right;\n",
       "    }\n",
       "</style>\n",
       "<table border=\"1\" class=\"dataframe\">\n",
       "  <thead>\n",
       "    <tr style=\"text-align: right;\">\n",
       "      <th></th>\n",
       "      <th>Text_Id</th>\n",
       "      <th>Text</th>\n",
       "      <th>Date</th>\n",
       "      <th>Location</th>\n",
       "      <th>Sentiments</th>\n",
       "      <th>Sentiment Score</th>\n",
       "    </tr>\n",
       "  </thead>\n",
       "  <tbody>\n",
       "    <tr>\n",
       "      <td>0</td>\n",
       "      <td>1241032866567356417</td>\n",
       "      <td>RT @theskindoctor13: Shaheen Bagh is still on....</td>\n",
       "      <td>2020-03-20</td>\n",
       "      <td>Uttar Pradesh, India</td>\n",
       "      <td>0.000</td>\n",
       "      <td>0</td>\n",
       "    </tr>\n",
       "    <tr>\n",
       "      <td>1</td>\n",
       "      <td>1241032867699765249</td>\n",
       "      <td>RT @theskindoctor13: Shaheen Bagh is still on....</td>\n",
       "      <td>2020-03-20</td>\n",
       "      <td>Mumbai</td>\n",
       "      <td>0.000</td>\n",
       "      <td>0</td>\n",
       "    </tr>\n",
       "    <tr>\n",
       "      <td>2</td>\n",
       "      <td>1241032875102703616</td>\n",
       "      <td>RT @SmokingSkills_: Daughter of an IAS, son of...</td>\n",
       "      <td>2020-03-20</td>\n",
       "      <td>Jodhpur, India</td>\n",
       "      <td>0.350</td>\n",
       "      <td>1</td>\n",
       "    </tr>\n",
       "    <tr>\n",
       "      <td>3</td>\n",
       "      <td>1241032877099237379</td>\n",
       "      <td>RT @narendramodi: The young actors have someth...</td>\n",
       "      <td>2020-03-20</td>\n",
       "      <td>Gurugram, Bharat</td>\n",
       "      <td>0.125</td>\n",
       "      <td>1</td>\n",
       "    </tr>\n",
       "    <tr>\n",
       "      <td>4</td>\n",
       "      <td>1241032870405128192</td>\n",
       "      <td>RT @theskindoctor13: Shaheen Bagh is still on....</td>\n",
       "      <td>2020-03-20</td>\n",
       "      <td>New Delhi, India</td>\n",
       "      <td>0.000</td>\n",
       "      <td>0</td>\n",
       "    </tr>\n",
       "  </tbody>\n",
       "</table>\n",
       "</div>"
      ],
      "text/plain": [
       "               Text_Id                                               Text  \\\n",
       "0  1241032866567356417  RT @theskindoctor13: Shaheen Bagh is still on....   \n",
       "1  1241032867699765249  RT @theskindoctor13: Shaheen Bagh is still on....   \n",
       "2  1241032875102703616  RT @SmokingSkills_: Daughter of an IAS, son of...   \n",
       "3  1241032877099237379  RT @narendramodi: The young actors have someth...   \n",
       "4  1241032870405128192  RT @theskindoctor13: Shaheen Bagh is still on....   \n",
       "\n",
       "         Date              Location  Sentiments  Sentiment Score  \n",
       "0  2020-03-20  Uttar Pradesh, India       0.000                0  \n",
       "1  2020-03-20                Mumbai       0.000                0  \n",
       "2  2020-03-20        Jodhpur, India       0.350                1  \n",
       "3  2020-03-20      Gurugram, Bharat       0.125                1  \n",
       "4  2020-03-20      New Delhi, India       0.000                0  "
      ]
     },
     "execution_count": 51,
     "metadata": {},
     "output_type": "execute_result"
    }
   ],
   "source": [
    "lis = []\n",
    "for value in df.Sentiments:\n",
    "    if value < 0 :\n",
    "        lis.append(-1)\n",
    "    elif value == 0 :\n",
    "        lis.append(0)\n",
    "    else:\n",
    "        lis.append(1)\n",
    "df['Sentiment Score'] = lis \n",
    "df.head()"
   ]
  },
  {
   "cell_type": "code",
   "execution_count": 52,
   "metadata": {},
   "outputs": [],
   "source": [
    "# Getting data of only first phase of lockdown\n",
    "import datetime\n",
    "phase_first = df[ (df.Date >= datetime.date(2020, 3, 25)) & (df.Date <= datetime.date(2020, 4, 14)) ]"
   ]
  },
  {
   "cell_type": "code",
   "execution_count": 53,
   "metadata": {},
   "outputs": [
    {
     "data": {
      "text/html": [
       "<div>\n",
       "<style scoped>\n",
       "    .dataframe tbody tr th:only-of-type {\n",
       "        vertical-align: middle;\n",
       "    }\n",
       "\n",
       "    .dataframe tbody tr th {\n",
       "        vertical-align: top;\n",
       "    }\n",
       "\n",
       "    .dataframe thead th {\n",
       "        text-align: right;\n",
       "    }\n",
       "</style>\n",
       "<table border=\"1\" class=\"dataframe\">\n",
       "  <thead>\n",
       "    <tr style=\"text-align: right;\">\n",
       "      <th></th>\n",
       "      <th>Text_Id</th>\n",
       "      <th>Text</th>\n",
       "      <th>Date</th>\n",
       "      <th>Location</th>\n",
       "      <th>Sentiments</th>\n",
       "      <th>Sentiment Score</th>\n",
       "    </tr>\n",
       "  </thead>\n",
       "  <tbody>\n",
       "    <tr>\n",
       "      <td>23828</td>\n",
       "      <td>1242693324563046400</td>\n",
       "      <td>RT @chathootti: Even this national emergency, ...</td>\n",
       "      <td>2020-03-25</td>\n",
       "      <td>Tamil Nadu, India</td>\n",
       "      <td>NaN</td>\n",
       "      <td>1</td>\n",
       "    </tr>\n",
       "    <tr>\n",
       "      <td>23829</td>\n",
       "      <td>1242693299413995523</td>\n",
       "      <td>Now the slogan has been justified................</td>\n",
       "      <td>2020-03-25</td>\n",
       "      <td>India</td>\n",
       "      <td>NaN</td>\n",
       "      <td>1</td>\n",
       "    </tr>\n",
       "    <tr>\n",
       "      <td>23830</td>\n",
       "      <td>1242693303897743366</td>\n",
       "      <td>RT @Shehzad_Ind: Thank you @narendramodi @Amit...</td>\n",
       "      <td>2020-03-25</td>\n",
       "      <td>Hindustan, India</td>\n",
       "      <td>NaN</td>\n",
       "      <td>1</td>\n",
       "    </tr>\n",
       "    <tr>\n",
       "      <td>23831</td>\n",
       "      <td>1242693322373767168</td>\n",
       "      <td>RT @jvin_tootu: Idea in the time of Corona\\n A...</td>\n",
       "      <td>2020-03-25</td>\n",
       "      <td>Aluva, India</td>\n",
       "      <td>NaN</td>\n",
       "      <td>1</td>\n",
       "    </tr>\n",
       "    <tr>\n",
       "      <td>23832</td>\n",
       "      <td>1242693346197254147</td>\n",
       "      <td>RT @RajiniFollowers: Super Bro 🙌🙌🙌🙌 #RAJINIVoi...</td>\n",
       "      <td>2020-03-25</td>\n",
       "      <td>Bengaluru South, India</td>\n",
       "      <td>NaN</td>\n",
       "      <td>1</td>\n",
       "    </tr>\n",
       "    <tr>\n",
       "      <td>...</td>\n",
       "      <td>...</td>\n",
       "      <td>...</td>\n",
       "      <td>...</td>\n",
       "      <td>...</td>\n",
       "      <td>...</td>\n",
       "      <td>...</td>\n",
       "    </tr>\n",
       "    <tr>\n",
       "      <td>491428</td>\n",
       "      <td>1249965076477382657</td>\n",
       "      <td>RT @UnderpaidBanke8: No Insurance cover\\nNo Re...</td>\n",
       "      <td>2020-04-14</td>\n",
       "      <td>Haryana, India</td>\n",
       "      <td>-0.178571</td>\n",
       "      <td>-1</td>\n",
       "    </tr>\n",
       "    <tr>\n",
       "      <td>491429</td>\n",
       "      <td>1249965122707058688</td>\n",
       "      <td>RT @iAnkurSingh: 21 days would've been suffici...</td>\n",
       "      <td>2020-04-14</td>\n",
       "      <td>India</td>\n",
       "      <td>-0.071429</td>\n",
       "      <td>-1</td>\n",
       "    </tr>\n",
       "    <tr>\n",
       "      <td>491430</td>\n",
       "      <td>1249965119968165890</td>\n",
       "      <td>RT @Sanjaythech1234: No Insurance cover\\nNo Re...</td>\n",
       "      <td>2020-04-14</td>\n",
       "      <td>Haryana, India</td>\n",
       "      <td>-0.178571</td>\n",
       "      <td>-1</td>\n",
       "    </tr>\n",
       "    <tr>\n",
       "      <td>491431</td>\n",
       "      <td>1249965079518306305</td>\n",
       "      <td>RT @IYC_UPWest: There can not be a better day ...</td>\n",
       "      <td>2020-04-14</td>\n",
       "      <td>New Delhi, India</td>\n",
       "      <td>0.500000</td>\n",
       "      <td>1</td>\n",
       "    </tr>\n",
       "    <tr>\n",
       "      <td>491432</td>\n",
       "      <td>1249965128142868480</td>\n",
       "      <td>RT @Sandhi811: Bigger news channels only want ...</td>\n",
       "      <td>2020-04-14</td>\n",
       "      <td>Varanasi, India</td>\n",
       "      <td>-0.100000</td>\n",
       "      <td>-1</td>\n",
       "    </tr>\n",
       "  </tbody>\n",
       "</table>\n",
       "<p>286252 rows × 6 columns</p>\n",
       "</div>"
      ],
      "text/plain": [
       "                    Text_Id  \\\n",
       "23828   1242693324563046400   \n",
       "23829   1242693299413995523   \n",
       "23830   1242693303897743366   \n",
       "23831   1242693322373767168   \n",
       "23832   1242693346197254147   \n",
       "...                     ...   \n",
       "491428  1249965076477382657   \n",
       "491429  1249965122707058688   \n",
       "491430  1249965119968165890   \n",
       "491431  1249965079518306305   \n",
       "491432  1249965128142868480   \n",
       "\n",
       "                                                     Text        Date  \\\n",
       "23828   RT @chathootti: Even this national emergency, ...  2020-03-25   \n",
       "23829   Now the slogan has been justified................  2020-03-25   \n",
       "23830   RT @Shehzad_Ind: Thank you @narendramodi @Amit...  2020-03-25   \n",
       "23831   RT @jvin_tootu: Idea in the time of Corona\\n A...  2020-03-25   \n",
       "23832   RT @RajiniFollowers: Super Bro 🙌🙌🙌🙌 #RAJINIVoi...  2020-03-25   \n",
       "...                                                   ...         ...   \n",
       "491428  RT @UnderpaidBanke8: No Insurance cover\\nNo Re...  2020-04-14   \n",
       "491429  RT @iAnkurSingh: 21 days would've been suffici...  2020-04-14   \n",
       "491430  RT @Sanjaythech1234: No Insurance cover\\nNo Re...  2020-04-14   \n",
       "491431  RT @IYC_UPWest: There can not be a better day ...  2020-04-14   \n",
       "491432  RT @Sandhi811: Bigger news channels only want ...  2020-04-14   \n",
       "\n",
       "                      Location  Sentiments  Sentiment Score  \n",
       "23828        Tamil Nadu, India         NaN                1  \n",
       "23829                    India         NaN                1  \n",
       "23830         Hindustan, India         NaN                1  \n",
       "23831             Aluva, India         NaN                1  \n",
       "23832   Bengaluru South, India         NaN                1  \n",
       "...                        ...         ...              ...  \n",
       "491428          Haryana, India   -0.178571               -1  \n",
       "491429                   India   -0.071429               -1  \n",
       "491430          Haryana, India   -0.178571               -1  \n",
       "491431        New Delhi, India    0.500000                1  \n",
       "491432         Varanasi, India   -0.100000               -1  \n",
       "\n",
       "[286252 rows x 6 columns]"
      ]
     },
     "execution_count": 53,
     "metadata": {},
     "output_type": "execute_result"
    }
   ],
   "source": [
    "phase_first"
   ]
  },
  {
   "cell_type": "code",
   "execution_count": 54,
   "metadata": {},
   "outputs": [
    {
     "data": {
      "text/html": [
       "<div>\n",
       "<style scoped>\n",
       "    .dataframe tbody tr th:only-of-type {\n",
       "        vertical-align: middle;\n",
       "    }\n",
       "\n",
       "    .dataframe tbody tr th {\n",
       "        vertical-align: top;\n",
       "    }\n",
       "\n",
       "    .dataframe thead th {\n",
       "        text-align: right;\n",
       "    }\n",
       "</style>\n",
       "<table border=\"1\" class=\"dataframe\">\n",
       "  <thead>\n",
       "    <tr style=\"text-align: right;\">\n",
       "      <th></th>\n",
       "      <th>Category</th>\n",
       "      <th>Count</th>\n",
       "    </tr>\n",
       "  </thead>\n",
       "  <tbody>\n",
       "    <tr>\n",
       "      <td>0</td>\n",
       "      <td>positive</td>\n",
       "      <td>115308</td>\n",
       "    </tr>\n",
       "    <tr>\n",
       "      <td>1</td>\n",
       "      <td>negative</td>\n",
       "      <td>54504</td>\n",
       "    </tr>\n",
       "    <tr>\n",
       "      <td>2</td>\n",
       "      <td>neutral</td>\n",
       "      <td>116440</td>\n",
       "    </tr>\n",
       "  </tbody>\n",
       "</table>\n",
       "</div>"
      ],
      "text/plain": [
       "   Category   Count\n",
       "0  positive  115308\n",
       "1  negative   54504\n",
       "2   neutral  116440"
      ]
     },
     "execution_count": 54,
     "metadata": {},
     "output_type": "execute_result"
    }
   ],
   "source": [
    "# Counting tweets only for +ve , -ve and neutral tweets\n",
    "positive = list(phase_first['Sentiment Score']).count( 1 )\n",
    "negative = list(phase_first['Sentiment Score']).count(-1 )\n",
    "neutral  = list(phase_first['Sentiment Score']).count( 0 )\n",
    "\n",
    "lis = [['positive' , positive] , ['negative' , negative] , ['neutral' , neutral]]\n",
    "distribution = pd.DataFrame(lis , columns = ['Category' , 'Count'])\n",
    "distribution"
   ]
  },
  {
   "cell_type": "code",
   "execution_count": 55,
   "metadata": {},
   "outputs": [
    {
     "data": {
      "application/vnd.plotly.v1+json": {
       "config": {
        "plotlyServerURL": "https://plot.ly"
       },
       "data": [
        {
         "domain": {
          "x": [
           0,
           1
          ],
          "y": [
           0,
           1
          ]
         },
         "hovertemplate": "Category=%{label}<br>Count=%{value}<extra></extra>",
         "labels": [
          "positive",
          "negative",
          "neutral"
         ],
         "legendgroup": "",
         "name": "",
         "showlegend": true,
         "type": "pie",
         "values": [
          115308,
          54504,
          116440
         ]
        }
       ],
       "layout": {
        "legend": {
         "tracegroupgap": 0
        },
        "piecolorway": [
         "rgb(103,0,31)",
         "rgb(178,24,43)",
         "rgb(214,96,77)",
         "rgb(244,165,130)",
         "rgb(253,219,199)",
         "rgb(247,247,247)",
         "rgb(209,229,240)",
         "rgb(146,197,222)",
         "rgb(67,147,195)",
         "rgb(33,102,172)",
         "rgb(5,48,97)"
        ],
        "template": {
         "data": {
          "bar": [
           {
            "error_x": {
             "color": "#2a3f5f"
            },
            "error_y": {
             "color": "#2a3f5f"
            },
            "marker": {
             "line": {
              "color": "#E5ECF6",
              "width": 0.5
             }
            },
            "type": "bar"
           }
          ],
          "barpolar": [
           {
            "marker": {
             "line": {
              "color": "#E5ECF6",
              "width": 0.5
             }
            },
            "type": "barpolar"
           }
          ],
          "carpet": [
           {
            "aaxis": {
             "endlinecolor": "#2a3f5f",
             "gridcolor": "white",
             "linecolor": "white",
             "minorgridcolor": "white",
             "startlinecolor": "#2a3f5f"
            },
            "baxis": {
             "endlinecolor": "#2a3f5f",
             "gridcolor": "white",
             "linecolor": "white",
             "minorgridcolor": "white",
             "startlinecolor": "#2a3f5f"
            },
            "type": "carpet"
           }
          ],
          "choropleth": [
           {
            "colorbar": {
             "outlinewidth": 0,
             "ticks": ""
            },
            "type": "choropleth"
           }
          ],
          "contour": [
           {
            "colorbar": {
             "outlinewidth": 0,
             "ticks": ""
            },
            "colorscale": [
             [
              0,
              "#0d0887"
             ],
             [
              0.1111111111111111,
              "#46039f"
             ],
             [
              0.2222222222222222,
              "#7201a8"
             ],
             [
              0.3333333333333333,
              "#9c179e"
             ],
             [
              0.4444444444444444,
              "#bd3786"
             ],
             [
              0.5555555555555556,
              "#d8576b"
             ],
             [
              0.6666666666666666,
              "#ed7953"
             ],
             [
              0.7777777777777778,
              "#fb9f3a"
             ],
             [
              0.8888888888888888,
              "#fdca26"
             ],
             [
              1,
              "#f0f921"
             ]
            ],
            "type": "contour"
           }
          ],
          "contourcarpet": [
           {
            "colorbar": {
             "outlinewidth": 0,
             "ticks": ""
            },
            "type": "contourcarpet"
           }
          ],
          "heatmap": [
           {
            "colorbar": {
             "outlinewidth": 0,
             "ticks": ""
            },
            "colorscale": [
             [
              0,
              "#0d0887"
             ],
             [
              0.1111111111111111,
              "#46039f"
             ],
             [
              0.2222222222222222,
              "#7201a8"
             ],
             [
              0.3333333333333333,
              "#9c179e"
             ],
             [
              0.4444444444444444,
              "#bd3786"
             ],
             [
              0.5555555555555556,
              "#d8576b"
             ],
             [
              0.6666666666666666,
              "#ed7953"
             ],
             [
              0.7777777777777778,
              "#fb9f3a"
             ],
             [
              0.8888888888888888,
              "#fdca26"
             ],
             [
              1,
              "#f0f921"
             ]
            ],
            "type": "heatmap"
           }
          ],
          "heatmapgl": [
           {
            "colorbar": {
             "outlinewidth": 0,
             "ticks": ""
            },
            "colorscale": [
             [
              0,
              "#0d0887"
             ],
             [
              0.1111111111111111,
              "#46039f"
             ],
             [
              0.2222222222222222,
              "#7201a8"
             ],
             [
              0.3333333333333333,
              "#9c179e"
             ],
             [
              0.4444444444444444,
              "#bd3786"
             ],
             [
              0.5555555555555556,
              "#d8576b"
             ],
             [
              0.6666666666666666,
              "#ed7953"
             ],
             [
              0.7777777777777778,
              "#fb9f3a"
             ],
             [
              0.8888888888888888,
              "#fdca26"
             ],
             [
              1,
              "#f0f921"
             ]
            ],
            "type": "heatmapgl"
           }
          ],
          "histogram": [
           {
            "marker": {
             "colorbar": {
              "outlinewidth": 0,
              "ticks": ""
             }
            },
            "type": "histogram"
           }
          ],
          "histogram2d": [
           {
            "colorbar": {
             "outlinewidth": 0,
             "ticks": ""
            },
            "colorscale": [
             [
              0,
              "#0d0887"
             ],
             [
              0.1111111111111111,
              "#46039f"
             ],
             [
              0.2222222222222222,
              "#7201a8"
             ],
             [
              0.3333333333333333,
              "#9c179e"
             ],
             [
              0.4444444444444444,
              "#bd3786"
             ],
             [
              0.5555555555555556,
              "#d8576b"
             ],
             [
              0.6666666666666666,
              "#ed7953"
             ],
             [
              0.7777777777777778,
              "#fb9f3a"
             ],
             [
              0.8888888888888888,
              "#fdca26"
             ],
             [
              1,
              "#f0f921"
             ]
            ],
            "type": "histogram2d"
           }
          ],
          "histogram2dcontour": [
           {
            "colorbar": {
             "outlinewidth": 0,
             "ticks": ""
            },
            "colorscale": [
             [
              0,
              "#0d0887"
             ],
             [
              0.1111111111111111,
              "#46039f"
             ],
             [
              0.2222222222222222,
              "#7201a8"
             ],
             [
              0.3333333333333333,
              "#9c179e"
             ],
             [
              0.4444444444444444,
              "#bd3786"
             ],
             [
              0.5555555555555556,
              "#d8576b"
             ],
             [
              0.6666666666666666,
              "#ed7953"
             ],
             [
              0.7777777777777778,
              "#fb9f3a"
             ],
             [
              0.8888888888888888,
              "#fdca26"
             ],
             [
              1,
              "#f0f921"
             ]
            ],
            "type": "histogram2dcontour"
           }
          ],
          "mesh3d": [
           {
            "colorbar": {
             "outlinewidth": 0,
             "ticks": ""
            },
            "type": "mesh3d"
           }
          ],
          "parcoords": [
           {
            "line": {
             "colorbar": {
              "outlinewidth": 0,
              "ticks": ""
             }
            },
            "type": "parcoords"
           }
          ],
          "pie": [
           {
            "automargin": true,
            "type": "pie"
           }
          ],
          "scatter": [
           {
            "marker": {
             "colorbar": {
              "outlinewidth": 0,
              "ticks": ""
             }
            },
            "type": "scatter"
           }
          ],
          "scatter3d": [
           {
            "line": {
             "colorbar": {
              "outlinewidth": 0,
              "ticks": ""
             }
            },
            "marker": {
             "colorbar": {
              "outlinewidth": 0,
              "ticks": ""
             }
            },
            "type": "scatter3d"
           }
          ],
          "scattercarpet": [
           {
            "marker": {
             "colorbar": {
              "outlinewidth": 0,
              "ticks": ""
             }
            },
            "type": "scattercarpet"
           }
          ],
          "scattergeo": [
           {
            "marker": {
             "colorbar": {
              "outlinewidth": 0,
              "ticks": ""
             }
            },
            "type": "scattergeo"
           }
          ],
          "scattergl": [
           {
            "marker": {
             "colorbar": {
              "outlinewidth": 0,
              "ticks": ""
             }
            },
            "type": "scattergl"
           }
          ],
          "scattermapbox": [
           {
            "marker": {
             "colorbar": {
              "outlinewidth": 0,
              "ticks": ""
             }
            },
            "type": "scattermapbox"
           }
          ],
          "scatterpolar": [
           {
            "marker": {
             "colorbar": {
              "outlinewidth": 0,
              "ticks": ""
             }
            },
            "type": "scatterpolar"
           }
          ],
          "scatterpolargl": [
           {
            "marker": {
             "colorbar": {
              "outlinewidth": 0,
              "ticks": ""
             }
            },
            "type": "scatterpolargl"
           }
          ],
          "scatterternary": [
           {
            "marker": {
             "colorbar": {
              "outlinewidth": 0,
              "ticks": ""
             }
            },
            "type": "scatterternary"
           }
          ],
          "surface": [
           {
            "colorbar": {
             "outlinewidth": 0,
             "ticks": ""
            },
            "colorscale": [
             [
              0,
              "#0d0887"
             ],
             [
              0.1111111111111111,
              "#46039f"
             ],
             [
              0.2222222222222222,
              "#7201a8"
             ],
             [
              0.3333333333333333,
              "#9c179e"
             ],
             [
              0.4444444444444444,
              "#bd3786"
             ],
             [
              0.5555555555555556,
              "#d8576b"
             ],
             [
              0.6666666666666666,
              "#ed7953"
             ],
             [
              0.7777777777777778,
              "#fb9f3a"
             ],
             [
              0.8888888888888888,
              "#fdca26"
             ],
             [
              1,
              "#f0f921"
             ]
            ],
            "type": "surface"
           }
          ],
          "table": [
           {
            "cells": {
             "fill": {
              "color": "#EBF0F8"
             },
             "line": {
              "color": "white"
             }
            },
            "header": {
             "fill": {
              "color": "#C8D4E3"
             },
             "line": {
              "color": "white"
             }
            },
            "type": "table"
           }
          ]
         },
         "layout": {
          "annotationdefaults": {
           "arrowcolor": "#2a3f5f",
           "arrowhead": 0,
           "arrowwidth": 1
          },
          "coloraxis": {
           "colorbar": {
            "outlinewidth": 0,
            "ticks": ""
           }
          },
          "colorscale": {
           "diverging": [
            [
             0,
             "#8e0152"
            ],
            [
             0.1,
             "#c51b7d"
            ],
            [
             0.2,
             "#de77ae"
            ],
            [
             0.3,
             "#f1b6da"
            ],
            [
             0.4,
             "#fde0ef"
            ],
            [
             0.5,
             "#f7f7f7"
            ],
            [
             0.6,
             "#e6f5d0"
            ],
            [
             0.7,
             "#b8e186"
            ],
            [
             0.8,
             "#7fbc41"
            ],
            [
             0.9,
             "#4d9221"
            ],
            [
             1,
             "#276419"
            ]
           ],
           "sequential": [
            [
             0,
             "#0d0887"
            ],
            [
             0.1111111111111111,
             "#46039f"
            ],
            [
             0.2222222222222222,
             "#7201a8"
            ],
            [
             0.3333333333333333,
             "#9c179e"
            ],
            [
             0.4444444444444444,
             "#bd3786"
            ],
            [
             0.5555555555555556,
             "#d8576b"
            ],
            [
             0.6666666666666666,
             "#ed7953"
            ],
            [
             0.7777777777777778,
             "#fb9f3a"
            ],
            [
             0.8888888888888888,
             "#fdca26"
            ],
            [
             1,
             "#f0f921"
            ]
           ],
           "sequentialminus": [
            [
             0,
             "#0d0887"
            ],
            [
             0.1111111111111111,
             "#46039f"
            ],
            [
             0.2222222222222222,
             "#7201a8"
            ],
            [
             0.3333333333333333,
             "#9c179e"
            ],
            [
             0.4444444444444444,
             "#bd3786"
            ],
            [
             0.5555555555555556,
             "#d8576b"
            ],
            [
             0.6666666666666666,
             "#ed7953"
            ],
            [
             0.7777777777777778,
             "#fb9f3a"
            ],
            [
             0.8888888888888888,
             "#fdca26"
            ],
            [
             1,
             "#f0f921"
            ]
           ]
          },
          "colorway": [
           "#636efa",
           "#EF553B",
           "#00cc96",
           "#ab63fa",
           "#FFA15A",
           "#19d3f3",
           "#FF6692",
           "#B6E880",
           "#FF97FF",
           "#FECB52"
          ],
          "font": {
           "color": "#2a3f5f"
          },
          "geo": {
           "bgcolor": "white",
           "lakecolor": "white",
           "landcolor": "#E5ECF6",
           "showlakes": true,
           "showland": true,
           "subunitcolor": "white"
          },
          "hoverlabel": {
           "align": "left"
          },
          "hovermode": "closest",
          "mapbox": {
           "style": "light"
          },
          "paper_bgcolor": "white",
          "plot_bgcolor": "#E5ECF6",
          "polar": {
           "angularaxis": {
            "gridcolor": "white",
            "linecolor": "white",
            "ticks": ""
           },
           "bgcolor": "#E5ECF6",
           "radialaxis": {
            "gridcolor": "white",
            "linecolor": "white",
            "ticks": ""
           }
          },
          "scene": {
           "xaxis": {
            "backgroundcolor": "#E5ECF6",
            "gridcolor": "white",
            "gridwidth": 2,
            "linecolor": "white",
            "showbackground": true,
            "ticks": "",
            "zerolinecolor": "white"
           },
           "yaxis": {
            "backgroundcolor": "#E5ECF6",
            "gridcolor": "white",
            "gridwidth": 2,
            "linecolor": "white",
            "showbackground": true,
            "ticks": "",
            "zerolinecolor": "white"
           },
           "zaxis": {
            "backgroundcolor": "#E5ECF6",
            "gridcolor": "white",
            "gridwidth": 2,
            "linecolor": "white",
            "showbackground": true,
            "ticks": "",
            "zerolinecolor": "white"
           }
          },
          "shapedefaults": {
           "line": {
            "color": "#2a3f5f"
           }
          },
          "ternary": {
           "aaxis": {
            "gridcolor": "white",
            "linecolor": "white",
            "ticks": ""
           },
           "baxis": {
            "gridcolor": "white",
            "linecolor": "white",
            "ticks": ""
           },
           "bgcolor": "#E5ECF6",
           "caxis": {
            "gridcolor": "white",
            "linecolor": "white",
            "ticks": ""
           }
          },
          "title": {
           "x": 0.05
          },
          "xaxis": {
           "automargin": true,
           "gridcolor": "white",
           "linecolor": "white",
           "ticks": "",
           "title": {
            "standoff": 15
           },
           "zerolinecolor": "white",
           "zerolinewidth": 2
          },
          "yaxis": {
           "automargin": true,
           "gridcolor": "white",
           "linecolor": "white",
           "ticks": "",
           "title": {
            "standoff": 15
           },
           "zerolinecolor": "white",
           "zerolinewidth": 2
          }
         }
        },
        "title": {
         "text": "First phase Tweets Category distribution"
        }
       }
      },
      "text/html": [
       "<div>\n",
       "        \n",
       "        \n",
       "            <div id=\"df04d23e-5630-4483-8af7-534907a6b901\" class=\"plotly-graph-div\" style=\"height:525px; width:100%;\"></div>\n",
       "            <script type=\"text/javascript\">\n",
       "                require([\"plotly\"], function(Plotly) {\n",
       "                    window.PLOTLYENV=window.PLOTLYENV || {};\n",
       "                    \n",
       "                if (document.getElementById(\"df04d23e-5630-4483-8af7-534907a6b901\")) {\n",
       "                    Plotly.newPlot(\n",
       "                        'df04d23e-5630-4483-8af7-534907a6b901',\n",
       "                        [{\"domain\": {\"x\": [0.0, 1.0], \"y\": [0.0, 1.0]}, \"hovertemplate\": \"Category=%{label}<br>Count=%{value}<extra></extra>\", \"labels\": [\"positive\", \"negative\", \"neutral\"], \"legendgroup\": \"\", \"name\": \"\", \"showlegend\": true, \"type\": \"pie\", \"values\": [115308, 54504, 116440]}],\n",
       "                        {\"legend\": {\"tracegroupgap\": 0}, \"piecolorway\": [\"rgb(103,0,31)\", \"rgb(178,24,43)\", \"rgb(214,96,77)\", \"rgb(244,165,130)\", \"rgb(253,219,199)\", \"rgb(247,247,247)\", \"rgb(209,229,240)\", \"rgb(146,197,222)\", \"rgb(67,147,195)\", \"rgb(33,102,172)\", \"rgb(5,48,97)\"], \"template\": {\"data\": {\"bar\": [{\"error_x\": {\"color\": \"#2a3f5f\"}, \"error_y\": {\"color\": \"#2a3f5f\"}, \"marker\": {\"line\": {\"color\": \"#E5ECF6\", \"width\": 0.5}}, \"type\": \"bar\"}], \"barpolar\": [{\"marker\": {\"line\": {\"color\": \"#E5ECF6\", \"width\": 0.5}}, \"type\": \"barpolar\"}], \"carpet\": [{\"aaxis\": {\"endlinecolor\": \"#2a3f5f\", \"gridcolor\": \"white\", \"linecolor\": \"white\", \"minorgridcolor\": \"white\", \"startlinecolor\": \"#2a3f5f\"}, \"baxis\": {\"endlinecolor\": \"#2a3f5f\", \"gridcolor\": \"white\", \"linecolor\": \"white\", \"minorgridcolor\": \"white\", \"startlinecolor\": \"#2a3f5f\"}, \"type\": \"carpet\"}], \"choropleth\": [{\"colorbar\": {\"outlinewidth\": 0, \"ticks\": \"\"}, \"type\": \"choropleth\"}], \"contour\": [{\"colorbar\": {\"outlinewidth\": 0, \"ticks\": \"\"}, \"colorscale\": [[0.0, \"#0d0887\"], [0.1111111111111111, \"#46039f\"], [0.2222222222222222, \"#7201a8\"], [0.3333333333333333, \"#9c179e\"], [0.4444444444444444, \"#bd3786\"], [0.5555555555555556, \"#d8576b\"], [0.6666666666666666, \"#ed7953\"], [0.7777777777777778, \"#fb9f3a\"], [0.8888888888888888, \"#fdca26\"], [1.0, \"#f0f921\"]], \"type\": \"contour\"}], \"contourcarpet\": [{\"colorbar\": {\"outlinewidth\": 0, \"ticks\": \"\"}, \"type\": \"contourcarpet\"}], \"heatmap\": [{\"colorbar\": {\"outlinewidth\": 0, \"ticks\": \"\"}, \"colorscale\": [[0.0, \"#0d0887\"], [0.1111111111111111, \"#46039f\"], [0.2222222222222222, \"#7201a8\"], [0.3333333333333333, \"#9c179e\"], [0.4444444444444444, \"#bd3786\"], [0.5555555555555556, \"#d8576b\"], [0.6666666666666666, \"#ed7953\"], [0.7777777777777778, \"#fb9f3a\"], [0.8888888888888888, \"#fdca26\"], [1.0, \"#f0f921\"]], \"type\": \"heatmap\"}], \"heatmapgl\": [{\"colorbar\": {\"outlinewidth\": 0, \"ticks\": \"\"}, \"colorscale\": [[0.0, \"#0d0887\"], [0.1111111111111111, \"#46039f\"], [0.2222222222222222, \"#7201a8\"], [0.3333333333333333, \"#9c179e\"], [0.4444444444444444, \"#bd3786\"], [0.5555555555555556, \"#d8576b\"], [0.6666666666666666, \"#ed7953\"], [0.7777777777777778, \"#fb9f3a\"], [0.8888888888888888, \"#fdca26\"], [1.0, \"#f0f921\"]], \"type\": \"heatmapgl\"}], \"histogram\": [{\"marker\": {\"colorbar\": {\"outlinewidth\": 0, \"ticks\": \"\"}}, \"type\": \"histogram\"}], \"histogram2d\": [{\"colorbar\": {\"outlinewidth\": 0, \"ticks\": \"\"}, \"colorscale\": [[0.0, \"#0d0887\"], [0.1111111111111111, \"#46039f\"], [0.2222222222222222, \"#7201a8\"], [0.3333333333333333, \"#9c179e\"], [0.4444444444444444, \"#bd3786\"], [0.5555555555555556, \"#d8576b\"], [0.6666666666666666, \"#ed7953\"], [0.7777777777777778, \"#fb9f3a\"], [0.8888888888888888, \"#fdca26\"], [1.0, \"#f0f921\"]], \"type\": \"histogram2d\"}], \"histogram2dcontour\": [{\"colorbar\": {\"outlinewidth\": 0, \"ticks\": \"\"}, \"colorscale\": [[0.0, \"#0d0887\"], [0.1111111111111111, \"#46039f\"], [0.2222222222222222, \"#7201a8\"], [0.3333333333333333, \"#9c179e\"], [0.4444444444444444, \"#bd3786\"], [0.5555555555555556, \"#d8576b\"], [0.6666666666666666, \"#ed7953\"], [0.7777777777777778, \"#fb9f3a\"], [0.8888888888888888, \"#fdca26\"], [1.0, \"#f0f921\"]], \"type\": \"histogram2dcontour\"}], \"mesh3d\": [{\"colorbar\": {\"outlinewidth\": 0, \"ticks\": \"\"}, \"type\": \"mesh3d\"}], \"parcoords\": [{\"line\": {\"colorbar\": {\"outlinewidth\": 0, \"ticks\": \"\"}}, \"type\": \"parcoords\"}], \"pie\": [{\"automargin\": true, \"type\": \"pie\"}], \"scatter\": [{\"marker\": {\"colorbar\": {\"outlinewidth\": 0, \"ticks\": \"\"}}, \"type\": \"scatter\"}], \"scatter3d\": [{\"line\": {\"colorbar\": {\"outlinewidth\": 0, \"ticks\": \"\"}}, \"marker\": {\"colorbar\": {\"outlinewidth\": 0, \"ticks\": \"\"}}, \"type\": \"scatter3d\"}], \"scattercarpet\": [{\"marker\": {\"colorbar\": {\"outlinewidth\": 0, \"ticks\": \"\"}}, \"type\": \"scattercarpet\"}], \"scattergeo\": [{\"marker\": {\"colorbar\": {\"outlinewidth\": 0, \"ticks\": \"\"}}, \"type\": \"scattergeo\"}], \"scattergl\": [{\"marker\": {\"colorbar\": {\"outlinewidth\": 0, \"ticks\": \"\"}}, \"type\": \"scattergl\"}], \"scattermapbox\": [{\"marker\": {\"colorbar\": {\"outlinewidth\": 0, \"ticks\": \"\"}}, \"type\": \"scattermapbox\"}], \"scatterpolar\": [{\"marker\": {\"colorbar\": {\"outlinewidth\": 0, \"ticks\": \"\"}}, \"type\": \"scatterpolar\"}], \"scatterpolargl\": [{\"marker\": {\"colorbar\": {\"outlinewidth\": 0, \"ticks\": \"\"}}, \"type\": \"scatterpolargl\"}], \"scatterternary\": [{\"marker\": {\"colorbar\": {\"outlinewidth\": 0, \"ticks\": \"\"}}, \"type\": \"scatterternary\"}], \"surface\": [{\"colorbar\": {\"outlinewidth\": 0, \"ticks\": \"\"}, \"colorscale\": [[0.0, \"#0d0887\"], [0.1111111111111111, \"#46039f\"], [0.2222222222222222, \"#7201a8\"], [0.3333333333333333, \"#9c179e\"], [0.4444444444444444, \"#bd3786\"], [0.5555555555555556, \"#d8576b\"], [0.6666666666666666, \"#ed7953\"], [0.7777777777777778, \"#fb9f3a\"], [0.8888888888888888, \"#fdca26\"], [1.0, \"#f0f921\"]], \"type\": \"surface\"}], \"table\": [{\"cells\": {\"fill\": {\"color\": \"#EBF0F8\"}, \"line\": {\"color\": \"white\"}}, \"header\": {\"fill\": {\"color\": \"#C8D4E3\"}, \"line\": {\"color\": \"white\"}}, \"type\": \"table\"}]}, \"layout\": {\"annotationdefaults\": {\"arrowcolor\": \"#2a3f5f\", \"arrowhead\": 0, \"arrowwidth\": 1}, \"coloraxis\": {\"colorbar\": {\"outlinewidth\": 0, \"ticks\": \"\"}}, \"colorscale\": {\"diverging\": [[0, \"#8e0152\"], [0.1, \"#c51b7d\"], [0.2, \"#de77ae\"], [0.3, \"#f1b6da\"], [0.4, \"#fde0ef\"], [0.5, \"#f7f7f7\"], [0.6, \"#e6f5d0\"], [0.7, \"#b8e186\"], [0.8, \"#7fbc41\"], [0.9, \"#4d9221\"], [1, \"#276419\"]], \"sequential\": [[0.0, \"#0d0887\"], [0.1111111111111111, \"#46039f\"], [0.2222222222222222, \"#7201a8\"], [0.3333333333333333, \"#9c179e\"], [0.4444444444444444, \"#bd3786\"], [0.5555555555555556, \"#d8576b\"], [0.6666666666666666, \"#ed7953\"], [0.7777777777777778, \"#fb9f3a\"], [0.8888888888888888, \"#fdca26\"], [1.0, \"#f0f921\"]], \"sequentialminus\": [[0.0, \"#0d0887\"], [0.1111111111111111, \"#46039f\"], [0.2222222222222222, \"#7201a8\"], [0.3333333333333333, \"#9c179e\"], [0.4444444444444444, \"#bd3786\"], [0.5555555555555556, \"#d8576b\"], [0.6666666666666666, \"#ed7953\"], [0.7777777777777778, \"#fb9f3a\"], [0.8888888888888888, \"#fdca26\"], [1.0, \"#f0f921\"]]}, \"colorway\": [\"#636efa\", \"#EF553B\", \"#00cc96\", \"#ab63fa\", \"#FFA15A\", \"#19d3f3\", \"#FF6692\", \"#B6E880\", \"#FF97FF\", \"#FECB52\"], \"font\": {\"color\": \"#2a3f5f\"}, \"geo\": {\"bgcolor\": \"white\", \"lakecolor\": \"white\", \"landcolor\": \"#E5ECF6\", \"showlakes\": true, \"showland\": true, \"subunitcolor\": \"white\"}, \"hoverlabel\": {\"align\": \"left\"}, \"hovermode\": \"closest\", \"mapbox\": {\"style\": \"light\"}, \"paper_bgcolor\": \"white\", \"plot_bgcolor\": \"#E5ECF6\", \"polar\": {\"angularaxis\": {\"gridcolor\": \"white\", \"linecolor\": \"white\", \"ticks\": \"\"}, \"bgcolor\": \"#E5ECF6\", \"radialaxis\": {\"gridcolor\": \"white\", \"linecolor\": \"white\", \"ticks\": \"\"}}, \"scene\": {\"xaxis\": {\"backgroundcolor\": \"#E5ECF6\", \"gridcolor\": \"white\", \"gridwidth\": 2, \"linecolor\": \"white\", \"showbackground\": true, \"ticks\": \"\", \"zerolinecolor\": \"white\"}, \"yaxis\": {\"backgroundcolor\": \"#E5ECF6\", \"gridcolor\": \"white\", \"gridwidth\": 2, \"linecolor\": \"white\", \"showbackground\": true, \"ticks\": \"\", \"zerolinecolor\": \"white\"}, \"zaxis\": {\"backgroundcolor\": \"#E5ECF6\", \"gridcolor\": \"white\", \"gridwidth\": 2, \"linecolor\": \"white\", \"showbackground\": true, \"ticks\": \"\", \"zerolinecolor\": \"white\"}}, \"shapedefaults\": {\"line\": {\"color\": \"#2a3f5f\"}}, \"ternary\": {\"aaxis\": {\"gridcolor\": \"white\", \"linecolor\": \"white\", \"ticks\": \"\"}, \"baxis\": {\"gridcolor\": \"white\", \"linecolor\": \"white\", \"ticks\": \"\"}, \"bgcolor\": \"#E5ECF6\", \"caxis\": {\"gridcolor\": \"white\", \"linecolor\": \"white\", \"ticks\": \"\"}}, \"title\": {\"x\": 0.05}, \"xaxis\": {\"automargin\": true, \"gridcolor\": \"white\", \"linecolor\": \"white\", \"ticks\": \"\", \"title\": {\"standoff\": 15}, \"zerolinecolor\": \"white\", \"zerolinewidth\": 2}, \"yaxis\": {\"automargin\": true, \"gridcolor\": \"white\", \"linecolor\": \"white\", \"ticks\": \"\", \"title\": {\"standoff\": 15}, \"zerolinecolor\": \"white\", \"zerolinewidth\": 2}}}, \"title\": {\"text\": \"First phase Tweets Category distribution\"}},\n",
       "                        {\"responsive\": true}\n",
       "                    ).then(function(){\n",
       "                            \n",
       "var gd = document.getElementById('df04d23e-5630-4483-8af7-534907a6b901');\n",
       "var x = new MutationObserver(function (mutations, observer) {{\n",
       "        var display = window.getComputedStyle(gd).display;\n",
       "        if (!display || display === 'none') {{\n",
       "            console.log([gd, 'removed!']);\n",
       "            Plotly.purge(gd);\n",
       "            observer.disconnect();\n",
       "        }}\n",
       "}});\n",
       "\n",
       "// Listen for the removal of the full notebook cells\n",
       "var notebookContainer = gd.closest('#notebook-container');\n",
       "if (notebookContainer) {{\n",
       "    x.observe(notebookContainer, {childList: true});\n",
       "}}\n",
       "\n",
       "// Listen for the clearing of the current output cell\n",
       "var outputEl = gd.closest('.output');\n",
       "if (outputEl) {{\n",
       "    x.observe(outputEl, {childList: true});\n",
       "}}\n",
       "\n",
       "                        })\n",
       "                };\n",
       "                });\n",
       "            </script>\n",
       "        </div>"
      ]
     },
     "metadata": {},
     "output_type": "display_data"
    }
   ],
   "source": [
    "px.pie( distribution , values='Count', names='Category', title='First phase Tweets Category distribution' ,color_discrete_sequence=px.colors.sequential.RdBu)"
   ]
  },
  {
   "cell_type": "code",
   "execution_count": 56,
   "metadata": {},
   "outputs": [
    {
     "data": {
      "text/html": [
       "<div>\n",
       "<style scoped>\n",
       "    .dataframe tbody tr th:only-of-type {\n",
       "        vertical-align: middle;\n",
       "    }\n",
       "\n",
       "    .dataframe tbody tr th {\n",
       "        vertical-align: top;\n",
       "    }\n",
       "\n",
       "    .dataframe thead th {\n",
       "        text-align: right;\n",
       "    }\n",
       "</style>\n",
       "<table border=\"1\" class=\"dataframe\">\n",
       "  <thead>\n",
       "    <tr style=\"text-align: right;\">\n",
       "      <th></th>\n",
       "      <th>Text_Id</th>\n",
       "      <th>Text</th>\n",
       "      <th>Date</th>\n",
       "      <th>Location</th>\n",
       "      <th>Sentiments</th>\n",
       "      <th>Sentiment Score</th>\n",
       "    </tr>\n",
       "  </thead>\n",
       "  <tbody>\n",
       "    <tr>\n",
       "      <td>0</td>\n",
       "      <td>1241032866567356417</td>\n",
       "      <td>RT @theskindoctor13: Shaheen Bagh is still on....</td>\n",
       "      <td>2020-03-20</td>\n",
       "      <td>Uttar Pradesh, India</td>\n",
       "      <td>0.000</td>\n",
       "      <td>0</td>\n",
       "    </tr>\n",
       "    <tr>\n",
       "      <td>1</td>\n",
       "      <td>1241032867699765249</td>\n",
       "      <td>RT @theskindoctor13: Shaheen Bagh is still on....</td>\n",
       "      <td>2020-03-20</td>\n",
       "      <td>Mumbai</td>\n",
       "      <td>0.000</td>\n",
       "      <td>0</td>\n",
       "    </tr>\n",
       "    <tr>\n",
       "      <td>2</td>\n",
       "      <td>1241032875102703616</td>\n",
       "      <td>RT @SmokingSkills_: Daughter of an IAS, son of...</td>\n",
       "      <td>2020-03-20</td>\n",
       "      <td>Jodhpur, India</td>\n",
       "      <td>0.350</td>\n",
       "      <td>1</td>\n",
       "    </tr>\n",
       "    <tr>\n",
       "      <td>3</td>\n",
       "      <td>1241032877099237379</td>\n",
       "      <td>RT @narendramodi: The young actors have someth...</td>\n",
       "      <td>2020-03-20</td>\n",
       "      <td>Gurugram, Bharat</td>\n",
       "      <td>0.125</td>\n",
       "      <td>1</td>\n",
       "    </tr>\n",
       "    <tr>\n",
       "      <td>4</td>\n",
       "      <td>1241032870405128192</td>\n",
       "      <td>RT @theskindoctor13: Shaheen Bagh is still on....</td>\n",
       "      <td>2020-03-20</td>\n",
       "      <td>New Delhi, India</td>\n",
       "      <td>0.000</td>\n",
       "      <td>0</td>\n",
       "    </tr>\n",
       "  </tbody>\n",
       "</table>\n",
       "</div>"
      ],
      "text/plain": [
       "               Text_Id                                               Text  \\\n",
       "0  1241032866567356417  RT @theskindoctor13: Shaheen Bagh is still on....   \n",
       "1  1241032867699765249  RT @theskindoctor13: Shaheen Bagh is still on....   \n",
       "2  1241032875102703616  RT @SmokingSkills_: Daughter of an IAS, son of...   \n",
       "3  1241032877099237379  RT @narendramodi: The young actors have someth...   \n",
       "4  1241032870405128192  RT @theskindoctor13: Shaheen Bagh is still on....   \n",
       "\n",
       "         Date              Location  Sentiments  Sentiment Score  \n",
       "0  2020-03-20  Uttar Pradesh, India       0.000                0  \n",
       "1  2020-03-20                Mumbai       0.000                0  \n",
       "2  2020-03-20        Jodhpur, India       0.350                1  \n",
       "3  2020-03-20      Gurugram, Bharat       0.125                1  \n",
       "4  2020-03-20      New Delhi, India       0.000                0  "
      ]
     },
     "execution_count": 56,
     "metadata": {},
     "output_type": "execute_result"
    }
   ],
   "source": [
    "df.head()"
   ]
  },
  {
   "cell_type": "code",
   "execution_count": 57,
   "metadata": {},
   "outputs": [
    {
     "name": "stdout",
     "output_type": "stream",
     "text": [
      "<class 'pandas.core.frame.DataFrame'>\n",
      "RangeIndex: 648958 entries, 0 to 648957\n",
      "Data columns (total 6 columns):\n",
      "Text_Id            648958 non-null int64\n",
      "Text               648958 non-null object\n",
      "Date               648958 non-null object\n",
      "Location           648958 non-null object\n",
      "Sentiments         637978 non-null float64\n",
      "Sentiment Score    648958 non-null int64\n",
      "dtypes: float64(1), int64(2), object(3)\n",
      "memory usage: 29.7+ MB\n"
     ]
    }
   ],
   "source": [
    "df.info()"
   ]
  },
  {
   "cell_type": "code",
   "execution_count": 194,
   "metadata": {},
   "outputs": [],
   "source": [
    "df1 = df.drop(['Text', 'Sentiments', 'Location'], axis = 1)"
   ]
  },
  {
   "cell_type": "code",
   "execution_count": 195,
   "metadata": {},
   "outputs": [
    {
     "data": {
      "text/html": [
       "<div>\n",
       "<style scoped>\n",
       "    .dataframe tbody tr th:only-of-type {\n",
       "        vertical-align: middle;\n",
       "    }\n",
       "\n",
       "    .dataframe tbody tr th {\n",
       "        vertical-align: top;\n",
       "    }\n",
       "\n",
       "    .dataframe thead th {\n",
       "        text-align: right;\n",
       "    }\n",
       "</style>\n",
       "<table border=\"1\" class=\"dataframe\">\n",
       "  <thead>\n",
       "    <tr style=\"text-align: right;\">\n",
       "      <th></th>\n",
       "      <th>Text_Id</th>\n",
       "      <th>Date</th>\n",
       "      <th>Sentiment Score</th>\n",
       "    </tr>\n",
       "  </thead>\n",
       "  <tbody>\n",
       "    <tr>\n",
       "      <td>0</td>\n",
       "      <td>1241032866567356417</td>\n",
       "      <td>2020-03-20</td>\n",
       "      <td>0</td>\n",
       "    </tr>\n",
       "    <tr>\n",
       "      <td>1</td>\n",
       "      <td>1241032867699765249</td>\n",
       "      <td>2020-03-20</td>\n",
       "      <td>0</td>\n",
       "    </tr>\n",
       "    <tr>\n",
       "      <td>2</td>\n",
       "      <td>1241032875102703616</td>\n",
       "      <td>2020-03-20</td>\n",
       "      <td>1</td>\n",
       "    </tr>\n",
       "    <tr>\n",
       "      <td>3</td>\n",
       "      <td>1241032877099237379</td>\n",
       "      <td>2020-03-20</td>\n",
       "      <td>1</td>\n",
       "    </tr>\n",
       "    <tr>\n",
       "      <td>4</td>\n",
       "      <td>1241032870405128192</td>\n",
       "      <td>2020-03-20</td>\n",
       "      <td>0</td>\n",
       "    </tr>\n",
       "  </tbody>\n",
       "</table>\n",
       "</div>"
      ],
      "text/plain": [
       "               Text_Id        Date  Sentiment Score\n",
       "0  1241032866567356417  2020-03-20                0\n",
       "1  1241032867699765249  2020-03-20                0\n",
       "2  1241032875102703616  2020-03-20                1\n",
       "3  1241032877099237379  2020-03-20                1\n",
       "4  1241032870405128192  2020-03-20                0"
      ]
     },
     "execution_count": 195,
     "metadata": {},
     "output_type": "execute_result"
    }
   ],
   "source": [
    "df1.head()"
   ]
  },
  {
   "cell_type": "code",
   "execution_count": 196,
   "metadata": {},
   "outputs": [],
   "source": [
    "df1['Date'] = pd.to_datetime( df1['Date'] )"
   ]
  },
  {
   "cell_type": "code",
   "execution_count": 197,
   "metadata": {},
   "outputs": [
    {
     "name": "stdout",
     "output_type": "stream",
     "text": [
      "<class 'pandas.core.frame.DataFrame'>\n",
      "RangeIndex: 648958 entries, 0 to 648957\n",
      "Data columns (total 3 columns):\n",
      "Text_Id            648958 non-null int64\n",
      "Date               648958 non-null datetime64[ns]\n",
      "Sentiment Score    648958 non-null int64\n",
      "dtypes: datetime64[ns](1), int64(2)\n",
      "memory usage: 14.9 MB\n"
     ]
    }
   ],
   "source": [
    "df1.info()"
   ]
  },
  {
   "cell_type": "code",
   "execution_count": 198,
   "metadata": {},
   "outputs": [],
   "source": [
    "df1['month']  = df1['Date'].dt.month\n",
    "df1['day'] = df1['Date'].dt.day"
   ]
  },
  {
   "cell_type": "code",
   "execution_count": 199,
   "metadata": {},
   "outputs": [],
   "source": [
    "from sklearn.linear_model import LogisticRegression\n",
    "from sklearn.tree import DecisionTreeClassifier\n",
    "from sklearn.ensemble import RandomForestClassifier\n",
    "\n",
    "def different_models_performance(x , y):\n",
    "    classifier = LogisticRegression()\n",
    "    classifier.fit(x, y)\n",
    "    print(\"Score for Logistic Regression : \" , classifier.score(x,y))\n",
    "\n",
    "\n",
    "    classifier = DecisionTreeClassifier()\n",
    "    classifier.fit(x, y)\n",
    "    print(\"Score for DecisionTreeClassifier : \" , classifier.score(x,y))\n",
    "\n",
    "\n",
    "    classifier = RandomForestClassifier()\n",
    "    classifier.fit(x, y)\n",
    "    print(\"Score for RandomForestClassifier : \" , classifier.score(x,y))"
   ]
  },
  {
   "cell_type": "code",
   "execution_count": 200,
   "metadata": {},
   "outputs": [
    {
     "name": "stderr",
     "output_type": "stream",
     "text": [
      "C:\\ProgramData\\Anaconda3\\lib\\site-packages\\sklearn\\linear_model\\logistic.py:432: FutureWarning:\n",
      "\n",
      "Default solver will be changed to 'lbfgs' in 0.22. Specify a solver to silence this warning.\n",
      "\n",
      "C:\\ProgramData\\Anaconda3\\lib\\site-packages\\sklearn\\linear_model\\logistic.py:469: FutureWarning:\n",
      "\n",
      "Default multi_class will be changed to 'auto' in 0.22. Specify the multi_class option to silence this warning.\n",
      "\n"
     ]
    },
    {
     "name": "stdout",
     "output_type": "stream",
     "text": [
      "Score for Logistic Regression :  0.40418023970734623\n",
      "Score for DecisionTreeClassifier :  0.4470150610671261\n"
     ]
    },
    {
     "name": "stderr",
     "output_type": "stream",
     "text": [
      "C:\\ProgramData\\Anaconda3\\lib\\site-packages\\sklearn\\ensemble\\forest.py:245: FutureWarning:\n",
      "\n",
      "The default value of n_estimators will change from 10 in version 0.20 to 100 in 0.22.\n",
      "\n"
     ]
    },
    {
     "name": "stdout",
     "output_type": "stream",
     "text": [
      "Score for RandomForestClassifier :  0.4470119792035848\n"
     ]
    }
   ],
   "source": [
    "    x = df1[['month', 'day']]\n",
    "    y = df1['Sentiment Score']\n",
    "    different_models_performance(x , y)"
   ]
  },
  {
   "cell_type": "code",
   "execution_count": 201,
   "metadata": {},
   "outputs": [
    {
     "name": "stderr",
     "output_type": "stream",
     "text": [
      "C:\\ProgramData\\Anaconda3\\lib\\site-packages\\sklearn\\linear_model\\logistic.py:432: FutureWarning:\n",
      "\n",
      "Default solver will be changed to 'lbfgs' in 0.22. Specify a solver to silence this warning.\n",
      "\n",
      "C:\\ProgramData\\Anaconda3\\lib\\site-packages\\sklearn\\linear_model\\logistic.py:469: FutureWarning:\n",
      "\n",
      "Default multi_class will be changed to 'auto' in 0.22. Specify the multi_class option to silence this warning.\n",
      "\n"
     ]
    },
    {
     "name": "stdout",
     "output_type": "stream",
     "text": [
      "Score for Logistic Regression :  0.41428567025909224\n",
      "Score for DecisionTreeClassifier :  0.48648448743986517\n"
     ]
    },
    {
     "name": "stderr",
     "output_type": "stream",
     "text": [
      "C:\\ProgramData\\Anaconda3\\lib\\site-packages\\sklearn\\ensemble\\forest.py:245: FutureWarning:\n",
      "\n",
      "The default value of n_estimators will change from 10 in version 0.20 to 100 in 0.22.\n",
      "\n"
     ]
    },
    {
     "name": "stdout",
     "output_type": "stream",
     "text": [
      "Score for RandomForestClassifier :  0.4853534435202278\n"
     ]
    }
   ],
   "source": [
    "    x = df1[['month', 'day' , 'Text_Id']]\n",
    "    y = df1['Sentiment Score']\n",
    "    different_models_performance(x , y)"
   ]
  },
  {
   "cell_type": "code",
   "execution_count": 202,
   "metadata": {},
   "outputs": [],
   "source": [
    "df1['No. of words'] = df['Text']\n",
    "df1['No. of words'] = df1['No. of words'].apply(lambda x : len(x.replace('\\n' , ' ').split()))"
   ]
  },
  {
   "cell_type": "code",
   "execution_count": 203,
   "metadata": {},
   "outputs": [
    {
     "data": {
      "text/html": [
       "<div>\n",
       "<style scoped>\n",
       "    .dataframe tbody tr th:only-of-type {\n",
       "        vertical-align: middle;\n",
       "    }\n",
       "\n",
       "    .dataframe tbody tr th {\n",
       "        vertical-align: top;\n",
       "    }\n",
       "\n",
       "    .dataframe thead th {\n",
       "        text-align: right;\n",
       "    }\n",
       "</style>\n",
       "<table border=\"1\" class=\"dataframe\">\n",
       "  <thead>\n",
       "    <tr style=\"text-align: right;\">\n",
       "      <th></th>\n",
       "      <th>Text_Id</th>\n",
       "      <th>Date</th>\n",
       "      <th>Sentiment Score</th>\n",
       "      <th>month</th>\n",
       "      <th>day</th>\n",
       "      <th>No. of words</th>\n",
       "    </tr>\n",
       "  </thead>\n",
       "  <tbody>\n",
       "    <tr>\n",
       "      <td>0</td>\n",
       "      <td>1241032866567356417</td>\n",
       "      <td>2020-03-20</td>\n",
       "      <td>0</td>\n",
       "      <td>3</td>\n",
       "      <td>20</td>\n",
       "      <td>23</td>\n",
       "    </tr>\n",
       "    <tr>\n",
       "      <td>1</td>\n",
       "      <td>1241032867699765249</td>\n",
       "      <td>2020-03-20</td>\n",
       "      <td>0</td>\n",
       "      <td>3</td>\n",
       "      <td>20</td>\n",
       "      <td>23</td>\n",
       "    </tr>\n",
       "    <tr>\n",
       "      <td>2</td>\n",
       "      <td>1241032875102703616</td>\n",
       "      <td>2020-03-20</td>\n",
       "      <td>1</td>\n",
       "      <td>3</td>\n",
       "      <td>20</td>\n",
       "      <td>25</td>\n",
       "    </tr>\n",
       "    <tr>\n",
       "      <td>3</td>\n",
       "      <td>1241032877099237379</td>\n",
       "      <td>2020-03-20</td>\n",
       "      <td>1</td>\n",
       "      <td>3</td>\n",
       "      <td>20</td>\n",
       "      <td>21</td>\n",
       "    </tr>\n",
       "    <tr>\n",
       "      <td>4</td>\n",
       "      <td>1241032870405128192</td>\n",
       "      <td>2020-03-20</td>\n",
       "      <td>0</td>\n",
       "      <td>3</td>\n",
       "      <td>20</td>\n",
       "      <td>23</td>\n",
       "    </tr>\n",
       "  </tbody>\n",
       "</table>\n",
       "</div>"
      ],
      "text/plain": [
       "               Text_Id       Date  Sentiment Score  month  day  No. of words\n",
       "0  1241032866567356417 2020-03-20                0      3   20            23\n",
       "1  1241032867699765249 2020-03-20                0      3   20            23\n",
       "2  1241032875102703616 2020-03-20                1      3   20            25\n",
       "3  1241032877099237379 2020-03-20                1      3   20            21\n",
       "4  1241032870405128192 2020-03-20                0      3   20            23"
      ]
     },
     "execution_count": 203,
     "metadata": {},
     "output_type": "execute_result"
    }
   ],
   "source": [
    "df1.head()"
   ]
  },
  {
   "cell_type": "code",
   "execution_count": 204,
   "metadata": {},
   "outputs": [
    {
     "name": "stderr",
     "output_type": "stream",
     "text": [
      "C:\\ProgramData\\Anaconda3\\lib\\site-packages\\sklearn\\linear_model\\logistic.py:432: FutureWarning:\n",
      "\n",
      "Default solver will be changed to 'lbfgs' in 0.22. Specify a solver to silence this warning.\n",
      "\n",
      "C:\\ProgramData\\Anaconda3\\lib\\site-packages\\sklearn\\linear_model\\logistic.py:469: FutureWarning:\n",
      "\n",
      "Default multi_class will be changed to 'auto' in 0.22. Specify the multi_class option to silence this warning.\n",
      "\n"
     ]
    },
    {
     "name": "stdout",
     "output_type": "stream",
     "text": [
      "Score for Logistic Regression :  0.41428567025909224\n",
      "Score for DecisionTreeClassifier :  0.7521257153775746\n"
     ]
    },
    {
     "name": "stderr",
     "output_type": "stream",
     "text": [
      "C:\\ProgramData\\Anaconda3\\lib\\site-packages\\sklearn\\ensemble\\forest.py:245: FutureWarning:\n",
      "\n",
      "The default value of n_estimators will change from 10 in version 0.20 to 100 in 0.22.\n",
      "\n"
     ]
    },
    {
     "name": "stdout",
     "output_type": "stream",
     "text": [
      "Score for RandomForestClassifier :  0.7510778817735508\n"
     ]
    }
   ],
   "source": [
    "    x = df1[['month', 'day' , 'Text_Id' , 'No. of words']]\n",
    "    y = df1['Sentiment Score']\n",
    "    different_models_performance(x , y)"
   ]
  },
  {
   "cell_type": "code",
   "execution_count": 205,
   "metadata": {},
   "outputs": [
    {
     "data": {
      "text/html": [
       "<div>\n",
       "<style scoped>\n",
       "    .dataframe tbody tr th:only-of-type {\n",
       "        vertical-align: middle;\n",
       "    }\n",
       "\n",
       "    .dataframe tbody tr th {\n",
       "        vertical-align: top;\n",
       "    }\n",
       "\n",
       "    .dataframe thead th {\n",
       "        text-align: right;\n",
       "    }\n",
       "</style>\n",
       "<table border=\"1\" class=\"dataframe\">\n",
       "  <thead>\n",
       "    <tr style=\"text-align: right;\">\n",
       "      <th></th>\n",
       "      <th>Text_Id</th>\n",
       "      <th>Text</th>\n",
       "      <th>Date</th>\n",
       "      <th>Location</th>\n",
       "      <th>Sentiments</th>\n",
       "      <th>Sentiment Score</th>\n",
       "    </tr>\n",
       "  </thead>\n",
       "  <tbody>\n",
       "    <tr>\n",
       "      <td>0</td>\n",
       "      <td>1241032866567356417</td>\n",
       "      <td>RT @theskindoctor13: Shaheen Bagh is still on....</td>\n",
       "      <td>2020-03-20</td>\n",
       "      <td>Uttar Pradesh, India</td>\n",
       "      <td>0.000</td>\n",
       "      <td>0</td>\n",
       "    </tr>\n",
       "    <tr>\n",
       "      <td>1</td>\n",
       "      <td>1241032867699765249</td>\n",
       "      <td>RT @theskindoctor13: Shaheen Bagh is still on....</td>\n",
       "      <td>2020-03-20</td>\n",
       "      <td>Mumbai</td>\n",
       "      <td>0.000</td>\n",
       "      <td>0</td>\n",
       "    </tr>\n",
       "    <tr>\n",
       "      <td>2</td>\n",
       "      <td>1241032875102703616</td>\n",
       "      <td>RT @SmokingSkills_: Daughter of an IAS, son of...</td>\n",
       "      <td>2020-03-20</td>\n",
       "      <td>Jodhpur, India</td>\n",
       "      <td>0.350</td>\n",
       "      <td>1</td>\n",
       "    </tr>\n",
       "    <tr>\n",
       "      <td>3</td>\n",
       "      <td>1241032877099237379</td>\n",
       "      <td>RT @narendramodi: The young actors have someth...</td>\n",
       "      <td>2020-03-20</td>\n",
       "      <td>Gurugram, Bharat</td>\n",
       "      <td>0.125</td>\n",
       "      <td>1</td>\n",
       "    </tr>\n",
       "    <tr>\n",
       "      <td>4</td>\n",
       "      <td>1241032870405128192</td>\n",
       "      <td>RT @theskindoctor13: Shaheen Bagh is still on....</td>\n",
       "      <td>2020-03-20</td>\n",
       "      <td>New Delhi, India</td>\n",
       "      <td>0.000</td>\n",
       "      <td>0</td>\n",
       "    </tr>\n",
       "  </tbody>\n",
       "</table>\n",
       "</div>"
      ],
      "text/plain": [
       "               Text_Id                                               Text  \\\n",
       "0  1241032866567356417  RT @theskindoctor13: Shaheen Bagh is still on....   \n",
       "1  1241032867699765249  RT @theskindoctor13: Shaheen Bagh is still on....   \n",
       "2  1241032875102703616  RT @SmokingSkills_: Daughter of an IAS, son of...   \n",
       "3  1241032877099237379  RT @narendramodi: The young actors have someth...   \n",
       "4  1241032870405128192  RT @theskindoctor13: Shaheen Bagh is still on....   \n",
       "\n",
       "         Date              Location  Sentiments  Sentiment Score  \n",
       "0  2020-03-20  Uttar Pradesh, India       0.000                0  \n",
       "1  2020-03-20                Mumbai       0.000                0  \n",
       "2  2020-03-20        Jodhpur, India       0.350                1  \n",
       "3  2020-03-20      Gurugram, Bharat       0.125                1  \n",
       "4  2020-03-20      New Delhi, India       0.000                0  "
      ]
     },
     "execution_count": 205,
     "metadata": {},
     "output_type": "execute_result"
    }
   ],
   "source": [
    "df.head()"
   ]
  },
  {
   "cell_type": "code",
   "execution_count": 206,
   "metadata": {},
   "outputs": [
    {
     "data": {
      "text/html": [
       "<div>\n",
       "<style scoped>\n",
       "    .dataframe tbody tr th:only-of-type {\n",
       "        vertical-align: middle;\n",
       "    }\n",
       "\n",
       "    .dataframe tbody tr th {\n",
       "        vertical-align: top;\n",
       "    }\n",
       "\n",
       "    .dataframe thead th {\n",
       "        text-align: right;\n",
       "    }\n",
       "</style>\n",
       "<table border=\"1\" class=\"dataframe\">\n",
       "  <thead>\n",
       "    <tr style=\"text-align: right;\">\n",
       "      <th></th>\n",
       "      <th>Text_Id</th>\n",
       "      <th>Date</th>\n",
       "      <th>Sentiment Score</th>\n",
       "      <th>month</th>\n",
       "      <th>day</th>\n",
       "      <th>No. of words</th>\n",
       "    </tr>\n",
       "  </thead>\n",
       "  <tbody>\n",
       "    <tr>\n",
       "      <td>0</td>\n",
       "      <td>1241032866567356417</td>\n",
       "      <td>2020-03-20</td>\n",
       "      <td>0</td>\n",
       "      <td>3</td>\n",
       "      <td>20</td>\n",
       "      <td>23</td>\n",
       "    </tr>\n",
       "    <tr>\n",
       "      <td>1</td>\n",
       "      <td>1241032867699765249</td>\n",
       "      <td>2020-03-20</td>\n",
       "      <td>0</td>\n",
       "      <td>3</td>\n",
       "      <td>20</td>\n",
       "      <td>23</td>\n",
       "    </tr>\n",
       "    <tr>\n",
       "      <td>2</td>\n",
       "      <td>1241032875102703616</td>\n",
       "      <td>2020-03-20</td>\n",
       "      <td>1</td>\n",
       "      <td>3</td>\n",
       "      <td>20</td>\n",
       "      <td>25</td>\n",
       "    </tr>\n",
       "    <tr>\n",
       "      <td>3</td>\n",
       "      <td>1241032877099237379</td>\n",
       "      <td>2020-03-20</td>\n",
       "      <td>1</td>\n",
       "      <td>3</td>\n",
       "      <td>20</td>\n",
       "      <td>21</td>\n",
       "    </tr>\n",
       "    <tr>\n",
       "      <td>4</td>\n",
       "      <td>1241032870405128192</td>\n",
       "      <td>2020-03-20</td>\n",
       "      <td>0</td>\n",
       "      <td>3</td>\n",
       "      <td>20</td>\n",
       "      <td>23</td>\n",
       "    </tr>\n",
       "  </tbody>\n",
       "</table>\n",
       "</div>"
      ],
      "text/plain": [
       "               Text_Id       Date  Sentiment Score  month  day  No. of words\n",
       "0  1241032866567356417 2020-03-20                0      3   20            23\n",
       "1  1241032867699765249 2020-03-20                0      3   20            23\n",
       "2  1241032875102703616 2020-03-20                1      3   20            25\n",
       "3  1241032877099237379 2020-03-20                1      3   20            21\n",
       "4  1241032870405128192 2020-03-20                0      3   20            23"
      ]
     },
     "execution_count": 206,
     "metadata": {},
     "output_type": "execute_result"
    }
   ],
   "source": [
    "df1.head()"
   ]
  },
  {
   "cell_type": "code",
   "execution_count": 207,
   "metadata": {},
   "outputs": [
    {
     "data": {
      "text/html": [
       "<div>\n",
       "<style scoped>\n",
       "    .dataframe tbody tr th:only-of-type {\n",
       "        vertical-align: middle;\n",
       "    }\n",
       "\n",
       "    .dataframe tbody tr th {\n",
       "        vertical-align: top;\n",
       "    }\n",
       "\n",
       "    .dataframe thead th {\n",
       "        text-align: right;\n",
       "    }\n",
       "</style>\n",
       "<table border=\"1\" class=\"dataframe\">\n",
       "  <thead>\n",
       "    <tr style=\"text-align: right;\">\n",
       "      <th></th>\n",
       "      <th>Text_Id</th>\n",
       "      <th>Date</th>\n",
       "      <th>Sentiment Score</th>\n",
       "      <th>month</th>\n",
       "      <th>day</th>\n",
       "      <th>No. of words</th>\n",
       "      <th>Contains_HashTag</th>\n",
       "    </tr>\n",
       "  </thead>\n",
       "  <tbody>\n",
       "    <tr>\n",
       "      <td>0</td>\n",
       "      <td>1241032866567356417</td>\n",
       "      <td>2020-03-20</td>\n",
       "      <td>0</td>\n",
       "      <td>3</td>\n",
       "      <td>20</td>\n",
       "      <td>23</td>\n",
       "      <td>RT @theskindoctor13: Shaheen Bagh is still on....</td>\n",
       "    </tr>\n",
       "    <tr>\n",
       "      <td>1</td>\n",
       "      <td>1241032867699765249</td>\n",
       "      <td>2020-03-20</td>\n",
       "      <td>0</td>\n",
       "      <td>3</td>\n",
       "      <td>20</td>\n",
       "      <td>23</td>\n",
       "      <td>RT @theskindoctor13: Shaheen Bagh is still on....</td>\n",
       "    </tr>\n",
       "    <tr>\n",
       "      <td>2</td>\n",
       "      <td>1241032875102703616</td>\n",
       "      <td>2020-03-20</td>\n",
       "      <td>1</td>\n",
       "      <td>3</td>\n",
       "      <td>20</td>\n",
       "      <td>25</td>\n",
       "      <td>RT @SmokingSkills_: Daughter of an IAS, son of...</td>\n",
       "    </tr>\n",
       "    <tr>\n",
       "      <td>3</td>\n",
       "      <td>1241032877099237379</td>\n",
       "      <td>2020-03-20</td>\n",
       "      <td>1</td>\n",
       "      <td>3</td>\n",
       "      <td>20</td>\n",
       "      <td>21</td>\n",
       "      <td>RT @narendramodi: The young actors have someth...</td>\n",
       "    </tr>\n",
       "    <tr>\n",
       "      <td>4</td>\n",
       "      <td>1241032870405128192</td>\n",
       "      <td>2020-03-20</td>\n",
       "      <td>0</td>\n",
       "      <td>3</td>\n",
       "      <td>20</td>\n",
       "      <td>23</td>\n",
       "      <td>RT @theskindoctor13: Shaheen Bagh is still on....</td>\n",
       "    </tr>\n",
       "  </tbody>\n",
       "</table>\n",
       "</div>"
      ],
      "text/plain": [
       "               Text_Id       Date  Sentiment Score  month  day  No. of words  \\\n",
       "0  1241032866567356417 2020-03-20                0      3   20            23   \n",
       "1  1241032867699765249 2020-03-20                0      3   20            23   \n",
       "2  1241032875102703616 2020-03-20                1      3   20            25   \n",
       "3  1241032877099237379 2020-03-20                1      3   20            21   \n",
       "4  1241032870405128192 2020-03-20                0      3   20            23   \n",
       "\n",
       "                                    Contains_HashTag  \n",
       "0  RT @theskindoctor13: Shaheen Bagh is still on....  \n",
       "1  RT @theskindoctor13: Shaheen Bagh is still on....  \n",
       "2  RT @SmokingSkills_: Daughter of an IAS, son of...  \n",
       "3  RT @narendramodi: The young actors have someth...  \n",
       "4  RT @theskindoctor13: Shaheen Bagh is still on....  "
      ]
     },
     "execution_count": 207,
     "metadata": {},
     "output_type": "execute_result"
    }
   ],
   "source": [
    "df1['Contains_HashTag'] = df['Text']\n",
    "df1.head()"
   ]
  },
  {
   "cell_type": "code",
   "execution_count": 208,
   "metadata": {},
   "outputs": [
    {
     "data": {
      "text/html": [
       "<div>\n",
       "<style scoped>\n",
       "    .dataframe tbody tr th:only-of-type {\n",
       "        vertical-align: middle;\n",
       "    }\n",
       "\n",
       "    .dataframe tbody tr th {\n",
       "        vertical-align: top;\n",
       "    }\n",
       "\n",
       "    .dataframe thead th {\n",
       "        text-align: right;\n",
       "    }\n",
       "</style>\n",
       "<table border=\"1\" class=\"dataframe\">\n",
       "  <thead>\n",
       "    <tr style=\"text-align: right;\">\n",
       "      <th></th>\n",
       "      <th>Text_Id</th>\n",
       "      <th>Date</th>\n",
       "      <th>Sentiment Score</th>\n",
       "      <th>month</th>\n",
       "      <th>day</th>\n",
       "      <th>No. of words</th>\n",
       "      <th>Contains_HashTag</th>\n",
       "    </tr>\n",
       "  </thead>\n",
       "  <tbody>\n",
       "    <tr>\n",
       "      <td>0</td>\n",
       "      <td>1241032866567356417</td>\n",
       "      <td>2020-03-20</td>\n",
       "      <td>0</td>\n",
       "      <td>3</td>\n",
       "      <td>20</td>\n",
       "      <td>23</td>\n",
       "      <td>0</td>\n",
       "    </tr>\n",
       "    <tr>\n",
       "      <td>1</td>\n",
       "      <td>1241032867699765249</td>\n",
       "      <td>2020-03-20</td>\n",
       "      <td>0</td>\n",
       "      <td>3</td>\n",
       "      <td>20</td>\n",
       "      <td>23</td>\n",
       "      <td>0</td>\n",
       "    </tr>\n",
       "    <tr>\n",
       "      <td>2</td>\n",
       "      <td>1241032875102703616</td>\n",
       "      <td>2020-03-20</td>\n",
       "      <td>1</td>\n",
       "      <td>3</td>\n",
       "      <td>20</td>\n",
       "      <td>25</td>\n",
       "      <td>0</td>\n",
       "    </tr>\n",
       "    <tr>\n",
       "      <td>3</td>\n",
       "      <td>1241032877099237379</td>\n",
       "      <td>2020-03-20</td>\n",
       "      <td>1</td>\n",
       "      <td>3</td>\n",
       "      <td>20</td>\n",
       "      <td>21</td>\n",
       "      <td>1</td>\n",
       "    </tr>\n",
       "    <tr>\n",
       "      <td>4</td>\n",
       "      <td>1241032870405128192</td>\n",
       "      <td>2020-03-20</td>\n",
       "      <td>0</td>\n",
       "      <td>3</td>\n",
       "      <td>20</td>\n",
       "      <td>23</td>\n",
       "      <td>0</td>\n",
       "    </tr>\n",
       "  </tbody>\n",
       "</table>\n",
       "</div>"
      ],
      "text/plain": [
       "               Text_Id       Date  Sentiment Score  month  day  No. of words  \\\n",
       "0  1241032866567356417 2020-03-20                0      3   20            23   \n",
       "1  1241032867699765249 2020-03-20                0      3   20            23   \n",
       "2  1241032875102703616 2020-03-20                1      3   20            25   \n",
       "3  1241032877099237379 2020-03-20                1      3   20            21   \n",
       "4  1241032870405128192 2020-03-20                0      3   20            23   \n",
       "\n",
       "   Contains_HashTag  \n",
       "0                 0  \n",
       "1                 0  \n",
       "2                 0  \n",
       "3                 1  \n",
       "4                 0  "
      ]
     },
     "execution_count": 208,
     "metadata": {},
     "output_type": "execute_result"
    }
   ],
   "source": [
    "df1['Contains_HashTag'] = df1['Contains_HashTag'].apply(lambda x : 0 if x.find('#') == -1 else 1 )\n",
    "df1.head()"
   ]
  },
  {
   "cell_type": "code",
   "execution_count": 209,
   "metadata": {},
   "outputs": [
    {
     "name": "stderr",
     "output_type": "stream",
     "text": [
      "C:\\ProgramData\\Anaconda3\\lib\\site-packages\\sklearn\\linear_model\\logistic.py:432: FutureWarning:\n",
      "\n",
      "Default solver will be changed to 'lbfgs' in 0.22. Specify a solver to silence this warning.\n",
      "\n",
      "C:\\ProgramData\\Anaconda3\\lib\\site-packages\\sklearn\\linear_model\\logistic.py:469: FutureWarning:\n",
      "\n",
      "Default multi_class will be changed to 'auto' in 0.22. Specify the multi_class option to silence this warning.\n",
      "\n"
     ]
    },
    {
     "name": "stdout",
     "output_type": "stream",
     "text": [
      "Score for Logistic Regression :  0.41428567025909224\n",
      "Score for DecisionTreeClassifier :  0.8126411878734834\n"
     ]
    },
    {
     "name": "stderr",
     "output_type": "stream",
     "text": [
      "C:\\ProgramData\\Anaconda3\\lib\\site-packages\\sklearn\\ensemble\\forest.py:245: FutureWarning:\n",
      "\n",
      "The default value of n_estimators will change from 10 in version 0.20 to 100 in 0.22.\n",
      "\n"
     ]
    },
    {
     "name": "stdout",
     "output_type": "stream",
     "text": [
      "Score for RandomForestClassifier :  0.8117412837194394\n"
     ]
    }
   ],
   "source": [
    "    x = df1[['month', 'day' , 'Text_Id' , 'No. of words' , 'Contains_HashTag']]\n",
    "    y = df1['Sentiment Score']\n",
    "    different_models_performance(x , y)"
   ]
  },
  {
   "cell_type": "code",
   "execution_count": 212,
   "metadata": {},
   "outputs": [
    {
     "data": {
      "text/plain": [
       "'@theskindoctor13'"
      ]
     },
     "execution_count": 212,
     "metadata": {},
     "output_type": "execute_result"
    }
   ],
   "source": [
    "#Finding the tweets of a particular handler\n",
    "df['Text'][0].split(':')[0].split()[-1]"
   ]
  },
  {
   "cell_type": "code",
   "execution_count": 214,
   "metadata": {},
   "outputs": [
    {
     "data": {
      "text/html": [
       "<div>\n",
       "<style scoped>\n",
       "    .dataframe tbody tr th:only-of-type {\n",
       "        vertical-align: middle;\n",
       "    }\n",
       "\n",
       "    .dataframe tbody tr th {\n",
       "        vertical-align: top;\n",
       "    }\n",
       "\n",
       "    .dataframe thead th {\n",
       "        text-align: right;\n",
       "    }\n",
       "</style>\n",
       "<table border=\"1\" class=\"dataframe\">\n",
       "  <thead>\n",
       "    <tr style=\"text-align: right;\">\n",
       "      <th></th>\n",
       "      <th>Text_Id</th>\n",
       "      <th>Date</th>\n",
       "      <th>Sentiment Score</th>\n",
       "      <th>month</th>\n",
       "      <th>day</th>\n",
       "      <th>No. of words</th>\n",
       "      <th>Contains_HashTag</th>\n",
       "      <th>Account Handler</th>\n",
       "    </tr>\n",
       "  </thead>\n",
       "  <tbody>\n",
       "    <tr>\n",
       "      <td>0</td>\n",
       "      <td>1241032866567356417</td>\n",
       "      <td>2020-03-20</td>\n",
       "      <td>0</td>\n",
       "      <td>3</td>\n",
       "      <td>20</td>\n",
       "      <td>23</td>\n",
       "      <td>0</td>\n",
       "      <td>@theskindoctor13</td>\n",
       "    </tr>\n",
       "    <tr>\n",
       "      <td>1</td>\n",
       "      <td>1241032867699765249</td>\n",
       "      <td>2020-03-20</td>\n",
       "      <td>0</td>\n",
       "      <td>3</td>\n",
       "      <td>20</td>\n",
       "      <td>23</td>\n",
       "      <td>0</td>\n",
       "      <td>@theskindoctor13</td>\n",
       "    </tr>\n",
       "    <tr>\n",
       "      <td>2</td>\n",
       "      <td>1241032875102703616</td>\n",
       "      <td>2020-03-20</td>\n",
       "      <td>1</td>\n",
       "      <td>3</td>\n",
       "      <td>20</td>\n",
       "      <td>25</td>\n",
       "      <td>0</td>\n",
       "      <td>@SmokingSkills_</td>\n",
       "    </tr>\n",
       "    <tr>\n",
       "      <td>3</td>\n",
       "      <td>1241032877099237379</td>\n",
       "      <td>2020-03-20</td>\n",
       "      <td>1</td>\n",
       "      <td>3</td>\n",
       "      <td>20</td>\n",
       "      <td>21</td>\n",
       "      <td>1</td>\n",
       "      <td>@narendramodi</td>\n",
       "    </tr>\n",
       "    <tr>\n",
       "      <td>4</td>\n",
       "      <td>1241032870405128192</td>\n",
       "      <td>2020-03-20</td>\n",
       "      <td>0</td>\n",
       "      <td>3</td>\n",
       "      <td>20</td>\n",
       "      <td>23</td>\n",
       "      <td>0</td>\n",
       "      <td>@theskindoctor13</td>\n",
       "    </tr>\n",
       "  </tbody>\n",
       "</table>\n",
       "</div>"
      ],
      "text/plain": [
       "               Text_Id       Date  Sentiment Score  month  day  No. of words  \\\n",
       "0  1241032866567356417 2020-03-20                0      3   20            23   \n",
       "1  1241032867699765249 2020-03-20                0      3   20            23   \n",
       "2  1241032875102703616 2020-03-20                1      3   20            25   \n",
       "3  1241032877099237379 2020-03-20                1      3   20            21   \n",
       "4  1241032870405128192 2020-03-20                0      3   20            23   \n",
       "\n",
       "   Contains_HashTag   Account Handler  \n",
       "0                 0  @theskindoctor13  \n",
       "1                 0  @theskindoctor13  \n",
       "2                 0   @SmokingSkills_  \n",
       "3                 1     @narendramodi  \n",
       "4                 0  @theskindoctor13  "
      ]
     },
     "execution_count": 214,
     "metadata": {},
     "output_type": "execute_result"
    }
   ],
   "source": [
    "df1['Account Handler'] = df['Text']\n",
    "df1['Account Handler'] = df1['Account Handler'].apply(lambda x : x.split(':')[0].replace('RT' , '').replace(' ' , ''))\n",
    "df1.head()"
   ]
  },
  {
   "cell_type": "code",
   "execution_count": 218,
   "metadata": {},
   "outputs": [
    {
     "data": {
      "text/html": [
       "<div>\n",
       "<style scoped>\n",
       "    .dataframe tbody tr th:only-of-type {\n",
       "        vertical-align: middle;\n",
       "    }\n",
       "\n",
       "    .dataframe tbody tr th {\n",
       "        vertical-align: top;\n",
       "    }\n",
       "\n",
       "    .dataframe thead th {\n",
       "        text-align: right;\n",
       "    }\n",
       "</style>\n",
       "<table border=\"1\" class=\"dataframe\">\n",
       "  <thead>\n",
       "    <tr style=\"text-align: right;\">\n",
       "      <th></th>\n",
       "      <th>Text_Id</th>\n",
       "      <th>Date</th>\n",
       "      <th>Sentiment Score</th>\n",
       "      <th>month</th>\n",
       "      <th>day</th>\n",
       "      <th>No. of words</th>\n",
       "      <th>Contains_HashTag</th>\n",
       "      <th>Account Handler</th>\n",
       "    </tr>\n",
       "  </thead>\n",
       "  <tbody>\n",
       "    <tr>\n",
       "      <td>3</td>\n",
       "      <td>1241032877099237379</td>\n",
       "      <td>2020-03-20</td>\n",
       "      <td>1</td>\n",
       "      <td>3</td>\n",
       "      <td>20</td>\n",
       "      <td>21</td>\n",
       "      <td>1</td>\n",
       "      <td>@narendramodi</td>\n",
       "    </tr>\n",
       "    <tr>\n",
       "      <td>5</td>\n",
       "      <td>1241032877107642368</td>\n",
       "      <td>2020-03-20</td>\n",
       "      <td>0</td>\n",
       "      <td>3</td>\n",
       "      <td>20</td>\n",
       "      <td>23</td>\n",
       "      <td>0</td>\n",
       "      <td>@narendramodi</td>\n",
       "    </tr>\n",
       "    <tr>\n",
       "      <td>19</td>\n",
       "      <td>1241032878730801152</td>\n",
       "      <td>2020-03-20</td>\n",
       "      <td>1</td>\n",
       "      <td>3</td>\n",
       "      <td>20</td>\n",
       "      <td>21</td>\n",
       "      <td>1</td>\n",
       "      <td>@narendramodi</td>\n",
       "    </tr>\n",
       "    <tr>\n",
       "      <td>26</td>\n",
       "      <td>1241032909118533632</td>\n",
       "      <td>2020-03-20</td>\n",
       "      <td>1</td>\n",
       "      <td>3</td>\n",
       "      <td>20</td>\n",
       "      <td>15</td>\n",
       "      <td>1</td>\n",
       "      <td>@narendramodi</td>\n",
       "    </tr>\n",
       "    <tr>\n",
       "      <td>28</td>\n",
       "      <td>1241032906803306496</td>\n",
       "      <td>2020-03-20</td>\n",
       "      <td>0</td>\n",
       "      <td>3</td>\n",
       "      <td>20</td>\n",
       "      <td>20</td>\n",
       "      <td>0</td>\n",
       "      <td>@narendramodi</td>\n",
       "    </tr>\n",
       "    <tr>\n",
       "      <td>...</td>\n",
       "      <td>...</td>\n",
       "      <td>...</td>\n",
       "      <td>...</td>\n",
       "      <td>...</td>\n",
       "      <td>...</td>\n",
       "      <td>...</td>\n",
       "      <td>...</td>\n",
       "      <td>...</td>\n",
       "    </tr>\n",
       "    <tr>\n",
       "      <td>643780</td>\n",
       "      <td>1266228883906392066</td>\n",
       "      <td>2020-05-29</td>\n",
       "      <td>1</td>\n",
       "      <td>5</td>\n",
       "      <td>29</td>\n",
       "      <td>19</td>\n",
       "      <td>0</td>\n",
       "      <td>@narendramodi</td>\n",
       "    </tr>\n",
       "    <tr>\n",
       "      <td>643888</td>\n",
       "      <td>1266229198202396672</td>\n",
       "      <td>2020-05-29</td>\n",
       "      <td>1</td>\n",
       "      <td>5</td>\n",
       "      <td>29</td>\n",
       "      <td>21</td>\n",
       "      <td>0</td>\n",
       "      <td>@narendramodi</td>\n",
       "    </tr>\n",
       "    <tr>\n",
       "      <td>647327</td>\n",
       "      <td>1266951278225170432</td>\n",
       "      <td>2020-05-31</td>\n",
       "      <td>1</td>\n",
       "      <td>5</td>\n",
       "      <td>31</td>\n",
       "      <td>21</td>\n",
       "      <td>0</td>\n",
       "      <td>@narendramodi</td>\n",
       "    </tr>\n",
       "    <tr>\n",
       "      <td>647365</td>\n",
       "      <td>1266951387440652289</td>\n",
       "      <td>2020-05-31</td>\n",
       "      <td>1</td>\n",
       "      <td>5</td>\n",
       "      <td>31</td>\n",
       "      <td>20</td>\n",
       "      <td>0</td>\n",
       "      <td>@narendramodi</td>\n",
       "    </tr>\n",
       "    <tr>\n",
       "      <td>647378</td>\n",
       "      <td>1266951404394024960</td>\n",
       "      <td>2020-05-31</td>\n",
       "      <td>1</td>\n",
       "      <td>5</td>\n",
       "      <td>31</td>\n",
       "      <td>23</td>\n",
       "      <td>0</td>\n",
       "      <td>@narendramodi</td>\n",
       "    </tr>\n",
       "  </tbody>\n",
       "</table>\n",
       "<p>8594 rows × 8 columns</p>\n",
       "</div>"
      ],
      "text/plain": [
       "                    Text_Id       Date  Sentiment Score  month  day  \\\n",
       "3       1241032877099237379 2020-03-20                1      3   20   \n",
       "5       1241032877107642368 2020-03-20                0      3   20   \n",
       "19      1241032878730801152 2020-03-20                1      3   20   \n",
       "26      1241032909118533632 2020-03-20                1      3   20   \n",
       "28      1241032906803306496 2020-03-20                0      3   20   \n",
       "...                     ...        ...              ...    ...  ...   \n",
       "643780  1266228883906392066 2020-05-29                1      5   29   \n",
       "643888  1266229198202396672 2020-05-29                1      5   29   \n",
       "647327  1266951278225170432 2020-05-31                1      5   31   \n",
       "647365  1266951387440652289 2020-05-31                1      5   31   \n",
       "647378  1266951404394024960 2020-05-31                1      5   31   \n",
       "\n",
       "        No. of words  Contains_HashTag Account Handler  \n",
       "3                 21                 1   @narendramodi  \n",
       "5                 23                 0   @narendramodi  \n",
       "19                21                 1   @narendramodi  \n",
       "26                15                 1   @narendramodi  \n",
       "28                20                 0   @narendramodi  \n",
       "...              ...               ...             ...  \n",
       "643780            19                 0   @narendramodi  \n",
       "643888            21                 0   @narendramodi  \n",
       "647327            21                 0   @narendramodi  \n",
       "647365            20                 0   @narendramodi  \n",
       "647378            23                 0   @narendramodi  \n",
       "\n",
       "[8594 rows x 8 columns]"
      ]
     },
     "execution_count": 218,
     "metadata": {},
     "output_type": "execute_result"
    }
   ],
   "source": [
    "account_handler_name = '@narendramodi'\n",
    "df1[ df1['Account Handler'] == account_handler_name ] "
   ]
  },
  {
   "cell_type": "code",
   "execution_count": null,
   "metadata": {},
   "outputs": [],
   "source": []
  }
 ],
 "metadata": {
  "kernelspec": {
   "display_name": "Python 3",
   "language": "python",
   "name": "python3"
  },
  "language_info": {
   "codemirror_mode": {
    "name": "ipython",
    "version": 3
   },
   "file_extension": ".py",
   "mimetype": "text/x-python",
   "name": "python",
   "nbconvert_exporter": "python",
   "pygments_lexer": "ipython3",
   "version": "3.7.4"
  }
 },
 "nbformat": 4,
 "nbformat_minor": 2
}
